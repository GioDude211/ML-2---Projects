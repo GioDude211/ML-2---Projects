{
 "cells": [
  {
   "cell_type": "markdown",
   "metadata": {},
   "source": [
    "# Programmer: Giovanni Vecchione\n",
    "## Date: 3/8/24\n",
    "\n",
    "## Subject: Project 3\n",
    "Use convolutional neural network to build the project on the dataset of your choice. Submit your project as Jupyter notebook."
   ]
  },
  {
   "cell_type": "code",
   "execution_count": null,
   "metadata": {},
   "outputs": [],
   "source": [
    "from sklearn.datasets import load_sample_images\n",
    "import tensorflow as tf\n",
    "\n",
    "#import and preprocess sample images using Scikit-Learn's load_sample_image() funciton\n",
    "#and Keras's CenterCrop and Rescaling layers.\n",
    "images = load_sample_images()[\"images\"]\n",
    "images = tf.keras.layers.CenterCrop(height=70, width=120)(images)\n",
    "images = tf.keras.layers.Rescaling(scale=1 / 255)(images)\n",
    "\n",
    "images.shape"
   ]
  }
 ],
 "metadata": {
  "language_info": {
   "name": "python"
  }
 },
 "nbformat": 4,
 "nbformat_minor": 2
}
