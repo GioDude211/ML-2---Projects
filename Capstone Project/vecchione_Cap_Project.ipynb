{
 "cells": [
  {
   "cell_type": "markdown",
   "metadata": {},
   "source": [
    "# Model 1_1\n",
    "\n",
    "## Programmer: Giovanni Vecchione\n",
    "## Date: 4/24/24\n",
    "\n",
    "## Subject: Machine Learning 2 - Capstone Project\n",
    "* ### Dungeons and Dragons Narrative Model\n",
    "\n",
    "\n",
    "## Structure:\n",
    "* ### *Focusing on the NLP model for the Capstone Project due to time constraints.*\n",
    "* ### NLP component that can interpret spoken D&D commands and classify them into game-specific intents.\n",
    "\n",
    "## Status: In-Progress\n",
    "\n",
    "## Hypotheses:\n",
    "* ### By using a combination of text normalization, feature engineering, and appropriate classifcation models, I can achieve an accuracy of at least 80% on identifying D&D intents from spoke commands.\n",
    "\n",
    "## Data Colletion:\n",
    "* ### Define a focused set of D&D commands and generate some commands using spoken word w/ variation.\n",
    "\n",
    "## Preprocessing:\n",
    "* ### Speech-to-text - Need text transcripts.\n",
    "* ### Text Normalization - Clean up the transcripts by removing filler words.\n",
    "\n",
    "## Feature Engineering:\n",
    "* ### Bag-of-Words to start and then add word embeddings and/or specialized features.\n",
    "\n",
    "## Model Selection:\n",
    "* ### Neural Network - RNN\n",
    "\n",
    "## Evaluation:\n",
    "\n"
   ]
  },
  {
   "cell_type": "code",
   "execution_count": null,
   "metadata": {},
   "outputs": [],
   "source": []
  }
 ],
 "metadata": {
  "language_info": {
   "name": "python"
  }
 },
 "nbformat": 4,
 "nbformat_minor": 2
}
