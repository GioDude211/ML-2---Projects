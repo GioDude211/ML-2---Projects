{
 "cells": [
  {
   "cell_type": "markdown",
   "metadata": {},
   "source": [
    "# Model 1_1\n",
    "\n",
    "## Programmer: Giovanni Vecchione\n",
    "## Date: 4/24/24\n",
    "\n",
    "## Subject: Machine Learning 2 - Capstone Project\n",
    "* ### Dungeons and Dragons Narrative Model\n",
    "\n",
    "\n",
    "## Structure:\n",
    "* ### *Focusing on the NLP model for the Capstone Project due to time constraints.*\n",
    "* ### NLP component that can interpret spoken D&D commands and classify them into game-specific intents.\n",
    "\n",
    "## Status: In-Progress\n",
    "\n",
    "## Hypotheses:\n",
    "* ### By using a combination of text normalization, feature engineering, and appropriate classifcation models, I can achieve an accuracy of at least 80% on identifying D&D intents from spoke commands.\n",
    "\n",
    "## Data Colletion:\n",
    "* ### Define a focused set of D&D commands and generate some commands using spoken word w/ variation.\n",
    "\n",
    "## Preprocessing:\n",
    "* ### Speech-to-text - Need text transcripts.\n",
    "* ### Text Normalization - Clean up the transcripts by removing filler words.\n",
    "\n",
    "## Feature Engineering:\n",
    "* ### Bag-of-Words to start and then add word embeddings and/or specialized features.\n",
    "\n",
    "## Model Selection:\n",
    "* ### Neural Network - RNN\n",
    "\n",
    "## Evaluation:\n",
    "\n"
   ]
  },
  {
   "cell_type": "code",
   "execution_count": 5,
   "metadata": {},
   "outputs": [],
   "source": [
    "import matplotlib as mtp\n",
    "import torch\n",
    "import numpy as np\n",
    "import random\n",
    "import tensorflow as tf\n",
    "from tensorflow import keras \n",
    "import matplotlib.pyplot as plt"
   ]
  },
  {
   "cell_type": "code",
   "execution_count": 6,
   "metadata": {},
   "outputs": [
    {
     "name": "stdout",
     "output_type": "stream",
     "text": [
      "Using GPU: NVIDIA GeForce GTX 1660 SUPER\n"
     ]
    }
   ],
   "source": [
    "#Checks if GPU is being used\n",
    "if torch.cuda.is_available():\n",
    "    device = torch.device(\"cuda\")  # Use the GPU\n",
    "    print(\"Using GPU:\", torch.cuda.get_device_name(0)) \n",
    "else:\n",
    "    device = torch.device(\"cpu\")  # Fallback to CPU\n",
    "    print(\"GPU not available, using CPU.\")\n",
    "\n",
    "#Using GPU: NVIDIA GeForce GTX 1660 SUPER - Successful\n",
    "#NOTE: This took some time to set up by installing and pathing the cuda toolkit v.12.4 and the right supplemental packages. This drastically improved\n",
    "#training time"
   ]
  },
  {
   "cell_type": "code",
   "execution_count": 7,
   "metadata": {},
   "outputs": [],
   "source": [
    "seed = 42\n",
    "random.seed(seed)"
   ]
  },
  {
   "cell_type": "markdown",
   "metadata": {},
   "source": [
    "## Dataset: Cornell Movie-Dialogs Corpus\n",
    "* Pre-train on general text datasets.\n",
    "* Introduce specific DND texts.\n",
    "* Fine tune for intents using DND terms.\n",
    "\n",
    "Here's the challenge: I need to transform this conversational data into a format where I have \"command-like\" examples to train the intent classifier."
   ]
  },
  {
   "cell_type": "code",
   "execution_count": 8,
   "metadata": {},
   "outputs": [
    {
     "name": "stdout",
     "output_type": "stream",
     "text": [
      "Downloading movie-corpus to C:\\Users\\GioDude\\.convokit\\downloads\\movie-corpus\n",
      "Downloading movie-corpus from http://zissou.infosci.cornell.edu/convokit/datasets/movie-corpus/movie-corpus.zip (40.9MB)... Done\n"
     ]
    }
   ],
   "source": [
    "#NOTE: This is a movie dialog of scripts, this is just a large dataset to add on to the training.\n",
    "from convokit import Corpus, download\n",
    "corpus = Corpus(filename=download(\"movie-corpus\"))"
   ]
  },
  {
   "cell_type": "markdown",
   "metadata": {},
   "source": [
    "# Dataset: DND Critical Role Transcripts"
   ]
  },
  {
   "cell_type": "code",
   "execution_count": 9,
   "metadata": {},
   "outputs": [],
   "source": [
    "#NOTE: This is a dnd transcript\n",
    "import codecs  # handles various file encodings\n",
    "\n",
    "with codecs.open(\"D:\\GioDude\\Documents\\ACC\\Spring 2024\\Machine Learning II\\Datasets\\DnD Scripts\\cr_dnd_transcripts_1.txt\", 'r', encoding='utf-8') as file:\n",
    "    dnd_data = file.read()"
   ]
  },
  {
   "cell_type": "code",
   "execution_count": 10,
   "metadata": {},
   "outputs": [],
   "source": [
    "dnd_utterances = dnd_data.splitlines()  # Split into lines (assumes one utterance per line)"
   ]
  },
  {
   "cell_type": "code",
   "execution_count": 11,
   "metadata": {},
   "outputs": [
    {
     "name": "stdout",
     "output_type": "stream",
     "text": [
      "Very good.\n",
      "This is a nice place.  It must have cost a pretty penny.\n",
      "Sure, Mickey.  Sure.\n",
      "Yes, sir.  They are indeed.\n",
      "Let's go by Rosarita's. You been there yet?\n"
     ]
    }
   ],
   "source": [
    "for i in range(5):\n",
    "    all_utterance_ids = corpus.get_utterance_ids()\n",
    "    random_id = random.choice(all_utterance_ids)\n",
    "    utterance = corpus.get_utterance(random_id)\n",
    "    print(utterance.text)\n",
    "\n",
    "#adds ids and splits shows examples"
   ]
  },
  {
   "cell_type": "markdown",
   "metadata": {},
   "source": [
    "# spaCy for Tokenization"
   ]
  },
  {
   "cell_type": "code",
   "execution_count": 18,
   "metadata": {},
   "outputs": [],
   "source": [
    "import spacy\n",
    "nlp = spacy.load('en_core_web_sm')"
   ]
  },
  {
   "cell_type": "code",
   "execution_count": 19,
   "metadata": {},
   "outputs": [],
   "source": [
    "def tokenize_sentence(sentence):\n",
    "    doc = nlp(sentence)\n",
    "    return [token.text for token in doc]"
   ]
  },
  {
   "cell_type": "markdown",
   "metadata": {},
   "source": [
    "# ADDING LABELS"
   ]
  },
  {
   "cell_type": "code",
   "execution_count": 20,
   "metadata": {},
   "outputs": [],
   "source": [
    "#An empty list to store our training data (command, intent) pairs\n",
    "all_data = []\n",
    "\n",
    "# Example - D&D Intents\n",
    "my_intents = [\"attack\", \"move\", \"jump\", \"hide\", \"talk\", \"cast\"]\n",
    "\n",
    "#Manually Created Examples\n",
    "all_data.append((\"attack the goblin with my sword!\", \"attack\"))\n",
    "all_data.append((\"move north\", \"move\"))\n",
    "all_data.append((\"leap over the chasm!\", \"jump\"))\n",
    "all_data.append((\"sneak behind the enemy\", \"hide\"))\n",
    "all_data.append((\"can I persuade the shopkeeper?\", \"talk\"))\n",
    "all_data.append((\"cast fireball!\", \"cast\"))\n",
    "\n",
    "#Selective modification of movie dialog to find and label intents\n",
    "for utterance in corpus.get_utterance_ids(): \n",
    "    text = corpus.get_utterance(utterance).text.lower()\n",
    "\n",
    "    if \"attack\" in text:\n",
    "        all_data.append((text, \"attack\"))\n",
    "    elif \"move\" in text or \"go\" in text: \n",
    "        all_data.append((text, \"move\"))\n",
    "    elif \"jump\" in text:\n",
    "        all_data.append((text, \"jump\"))\n",
    "    elif \"hide\" in text or \"go\" in text: \n",
    "        all_data.append((text, \"hide\"))\n",
    "    elif \"talk\" in text:\n",
    "        all_data.append((text, \"talk\"))\n",
    "    elif \"cast\" in text:\n",
    "        all_data.append((text, \"cast\"))\n",
    "    else: #if no intent was found\n",
    "        all_data.append((text, \"filler\"))\n",
    "\n",
    "#Selective modification of DND Transcripts to find and label intents\n",
    "for utterance in dnd_utterances:\n",
    "    text = utterance.lower() \n",
    "\n",
    "    # Simple intent labeling (replace with more selective logic later)\n",
    "    if \"attack\" in text:\n",
    "        all_data.append((text, \"attack\"))\n",
    "    elif \"move\" in text or \"go\" in text: \n",
    "        all_data.append((text, \"move\"))\n",
    "    elif \"jump\" in text:\n",
    "        all_data.append((text, \"jump\"))\n",
    "    elif \"hide\" in text or \"go\" in text: \n",
    "        all_data.append((text, \"hide\"))\n",
    "    elif \"talk\" in text:\n",
    "        all_data.append((text, \"talk\"))\n",
    "    elif \"cast\" in text:\n",
    "        all_data.append((text, \"cast\"))\n",
    "    else: #if no intent was found\n",
    "        all_data.append((text, \"filler\"))\n",
    "\n",
    "#NOTE : This can be modified to include other words of intent."
   ]
  },
  {
   "cell_type": "code",
   "execution_count": null,
   "metadata": {},
   "outputs": [],
   "source": [
    "## SIDE NOTE: This was for a seperate model, since RNNs rely on sequential data this was removed\n",
    "\"\"\"\n",
    "from nltk import word_tokenize \n",
    "from sklearn.feature_extraction.text import CountVectorizer\n",
    "#NOTE: This represents each command as a \"bag\" of its constituent words, disregarding grammar and word order. The focus is on word frequency.\n",
    "\n",
    "#### Assuming you have your training data in 'all_data' like the previous examples\n",
    "sentences = [datapoint[0] for datapoint in all_data]  # Extract just the text sentences\n",
    "intents = [datapoint[1] for datapoint in all_data]  # Extract the intents (labels)\n",
    "\n",
    "vectorizer = CountVectorizer() \n",
    "X = vectorizer.fit_transform(sentences)  \n",
    "\n",
    "\"\"\"\n",
    "\n",
    "\n",
    "#### 'X' now contains a matrix where each row is a command and columns represent different words\n",
    "#### The values in the matrix represent the word counts"
   ]
  },
  {
   "cell_type": "markdown",
   "metadata": {},
   "source": [
    "# BUILD VOCABULARY"
   ]
  },
  {
   "cell_type": "code",
   "execution_count": 21,
   "metadata": {},
   "outputs": [],
   "source": [
    "def build_vocabulary(tokenized_data):\n",
    "    vocabulary = {}  # empty dictionary\n",
    "    index = 0  # assign indices to each unique token\n",
    "\n",
    "    for tokens, _ in tokenized_data:  # Ignore intent for now \n",
    "        for token in tokens:\n",
    "            if token not in vocabulary:  # Check if token is new\n",
    "                vocabulary[token] = index\n",
    "                index += 1\n",
    "\n",
    "    return vocabulary"
   ]
  },
  {
   "cell_type": "code",
   "execution_count": 29,
   "metadata": {},
   "outputs": [],
   "source": [
    "def build_intent_vocabulary(labels): \n",
    "    intent_vocab = {}\n",
    "    index = 0\n",
    "    for label in labels:\n",
    "        if label not in intent_vocab:\n",
    "            intent_vocab[label] = index\n",
    "            index += 1\n",
    "    return intent_vocab"
   ]
  },
  {
   "cell_type": "markdown",
   "metadata": {},
   "source": [
    "# TOKENIZE & ENCODE VOCAB for text and intent(labels)"
   ]
  },
  {
   "cell_type": "code",
   "execution_count": 22,
   "metadata": {},
   "outputs": [],
   "source": [
    "# Tokenize and build vocabulary\n",
    "tokenized_data = []\n",
    "for text, intent in all_data:\n",
    "    tokens = tokenize_sentence(text)\n",
    "    tokenized_data.append((tokens, intent)) \n",
    "\n",
    "vocabulary = build_vocabulary(tokenized_data) "
   ]
  },
  {
   "cell_type": "code",
   "execution_count": 30,
   "metadata": {},
   "outputs": [],
   "source": [
    "# Build intent vocabulary AFTER the loop \n",
    "unique_labels = set(intent for _, intent in all_data)   \n",
    "intent_vocabulary = build_intent_vocabulary(unique_labels)  "
   ]
  },
  {
   "cell_type": "code",
   "execution_count": 31,
   "metadata": {},
   "outputs": [],
   "source": [
    "vocabulary[\"<UNK>\"] = 0  # Assign the index 0 (or any other suitable index) for unseen words"
   ]
  },
  {
   "cell_type": "code",
   "execution_count": 32,
   "metadata": {},
   "outputs": [],
   "source": [
    "def encode_sequence(tokens, vocabulary, max_length=None):\n",
    "    encoded_sequence = [vocabulary.get(token, vocabulary[\"<UNK>\"]) for token in tokens]  \n",
    "\n",
    "    # (Optional) Padding for equal length \n",
    "    if max_length:\n",
    "        encoded_sequence = encoded_sequence[:max_length]  # Truncate if too long \n",
    "        encoded_sequence += [0] * (max_length - len(encoded_sequence))  # Pad with zeros\n",
    "\n",
    "    return encoded_sequence"
   ]
  },
  {
   "cell_type": "code",
   "execution_count": 33,
   "metadata": {},
   "outputs": [],
   "source": [
    "def encode_intent(intent, intent_vocabulary):\n",
    "    return intent_vocabulary[intent] "
   ]
  },
  {
   "cell_type": "code",
   "execution_count": 34,
   "metadata": {},
   "outputs": [],
   "source": [
    "# Encoding vocabularies \n",
    "encoded_data = []\n",
    "for tokens, intent in tokenized_data:\n",
    "    encoded_sequence = encode_sequence(tokens, vocabulary)\n",
    "    encoded_intent = encode_intent(intent, intent_vocabulary) \n",
    "    encoded_data.append((encoded_sequence, encoded_intent))"
   ]
  },
  {
   "cell_type": "code",
   "execution_count": 35,
   "metadata": {},
   "outputs": [
    {
     "name": "stdout",
     "output_type": "stream",
     "text": [
      "[([0, 1, 2, 3, 4, 5, 6], 4), ([7, 8], 5), ([9, 10, 1, 11, 6], 1), ([12, 13, 1, 14], 0), ([15, 16, 17, 1, 18, 19], 3)]\n"
     ]
    }
   ],
   "source": [
    "print(encoded_data[:5])  # Print the first 5 elements "
   ]
  },
  {
   "cell_type": "markdown",
   "metadata": {},
   "source": [
    "# SPLITTING THE DATA"
   ]
  },
  {
   "cell_type": "code",
   "execution_count": 36,
   "metadata": {},
   "outputs": [],
   "source": [
    "from sklearn.model_selection import train_test_split\n",
    "\n",
    "# Assuming encoded_data is your list of (encoded_command, encoded_intent) tuples\n",
    "training_data, validation_and_test_data = train_test_split(encoded_data, test_size=0.3, random_state=42)\n",
    "\n",
    "# Further split validation and test sets (70% of 30% for validation, 30% of 30% for test)\n",
    "validation_data, test_data = train_test_split(validation_and_test_data, test_size=0.33, random_state=42) \n"
   ]
  },
  {
   "cell_type": "code",
   "execution_count": 37,
   "metadata": {},
   "outputs": [],
   "source": [
    "#NOTE: Extracting Labels Later (If Needed)\n",
    "training_commands = [data[0] for data in training_data]\n",
    "training_labels = [data[1] for data in training_data]"
   ]
  },
  {
   "cell_type": "code",
   "execution_count": 38,
   "metadata": {},
   "outputs": [
    {
     "name": "stdout",
     "output_type": "stream",
     "text": [
      "Training Data Length: 220721\n",
      "Validation Data Length: 63379\n",
      "Test Data Length: 31217\n"
     ]
    }
   ],
   "source": [
    "print(\"Training Data Length:\", len(training_data))\n",
    "print(\"Validation Data Length:\", len(validation_data))\n",
    "print(\"Test Data Length:\", len(test_data))"
   ]
  },
  {
   "cell_type": "markdown",
   "metadata": {},
   "source": [
    "# CRAFT A PyTorch DATASET to streamline RNN's data handling."
   ]
  },
  {
   "cell_type": "code",
   "execution_count": null,
   "metadata": {},
   "outputs": [],
   "source": []
  },
  {
   "cell_type": "markdown",
   "metadata": {},
   "source": [
    "# CREATING THE MODEL"
   ]
  },
  {
   "cell_type": "code",
   "execution_count": null,
   "metadata": {},
   "outputs": [],
   "source": [
    "from sklearn.naive_bayes import MultinomialNB\n",
    "\n",
    "clf = MultinomialNB().fit(X_train, y_train) "
   ]
  },
  {
   "cell_type": "code",
   "execution_count": null,
   "metadata": {},
   "outputs": [
    {
     "name": "stdout",
     "output_type": "stream",
     "text": [
      "Accuracy: 0.9739946720791577\n"
     ]
    }
   ],
   "source": [
    "from sklearn.metrics import accuracy_score \n",
    "\n",
    "y_pred = clf.predict(X_test)\n",
    "accuracy = accuracy_score(y_test, y_pred)\n",
    "print(\"Accuracy:\", accuracy) "
   ]
  },
  {
   "cell_type": "code",
   "execution_count": null,
   "metadata": {},
   "outputs": [
    {
     "name": "stdout",
     "output_type": "stream",
     "text": [
      "[[    3     0    58     0     0    29     0]\n",
      " [    0     0    23     0     0    29     1]\n",
      " [   11     6 51787     0     3   440   143]\n",
      " [    0     0     8     0     0    28     0]\n",
      " [    0     0     8     0     0    32     0]\n",
      " [    2     0   190     0     0  9372     8]\n",
      " [    0     0    44     0     0   577   262]]\n"
     ]
    },
    {
     "name": "stderr",
     "output_type": "stream",
     "text": [
      "c:\\Users\\GioDude\\AppData\\Local\\Programs\\Python\\Python311\\Lib\\site-packages\\sklearn\\metrics\\_classification.py:1509: UndefinedMetricWarning: Precision is ill-defined and being set to 0.0 in labels with no predicted samples. Use `zero_division` parameter to control this behavior.\n",
      "  _warn_prf(average, modifier, f\"{metric.capitalize()} is\", len(result))\n",
      "c:\\Users\\GioDude\\AppData\\Local\\Programs\\Python\\Python311\\Lib\\site-packages\\sklearn\\metrics\\_classification.py:1509: UndefinedMetricWarning: Precision is ill-defined and being set to 0.0 in labels with no predicted samples. Use `zero_division` parameter to control this behavior.\n",
      "  _warn_prf(average, modifier, f\"{metric.capitalize()} is\", len(result))\n"
     ]
    },
    {
     "name": "stdout",
     "output_type": "stream",
     "text": [
      "              precision    recall  f1-score   support\n",
      "\n",
      "      attack       0.19      0.03      0.06        90\n",
      "        cast       0.00      0.00      0.00        53\n",
      "      filler       0.99      0.99      0.99     52390\n",
      "        hide       0.00      0.00      0.00        36\n",
      "        jump       0.00      0.00      0.00        40\n",
      "        move       0.89      0.98      0.93      9572\n",
      "        talk       0.63      0.30      0.40       883\n",
      "\n",
      "    accuracy                           0.97     63064\n",
      "   macro avg       0.39      0.33      0.34     63064\n",
      "weighted avg       0.97      0.97      0.97     63064\n",
      "\n"
     ]
    },
    {
     "name": "stderr",
     "output_type": "stream",
     "text": [
      "c:\\Users\\GioDude\\AppData\\Local\\Programs\\Python\\Python311\\Lib\\site-packages\\sklearn\\metrics\\_classification.py:1509: UndefinedMetricWarning: Precision is ill-defined and being set to 0.0 in labels with no predicted samples. Use `zero_division` parameter to control this behavior.\n",
      "  _warn_prf(average, modifier, f\"{metric.capitalize()} is\", len(result))\n"
     ]
    }
   ],
   "source": [
    "from sklearn.metrics import confusion_matrix, classification_report\n",
    "\n",
    "print(confusion_matrix(y_test, y_pred))\n",
    "print(classification_report(y_test, y_pred))"
   ]
  }
 ],
 "metadata": {
  "kernelspec": {
   "display_name": "Python 3",
   "language": "python",
   "name": "python3"
  },
  "language_info": {
   "codemirror_mode": {
    "name": "ipython",
    "version": 3
   },
   "file_extension": ".py",
   "mimetype": "text/x-python",
   "name": "python",
   "nbconvert_exporter": "python",
   "pygments_lexer": "ipython3",
   "version": "3.11.1"
  }
 },
 "nbformat": 4,
 "nbformat_minor": 2
}
