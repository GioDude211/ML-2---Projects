{
 "cells": [
  {
   "cell_type": "markdown",
   "metadata": {},
   "source": [
    "# Model 1_1\n",
    "\n",
    "## Programmer: Giovanni Vecchione\n",
    "## Date: 4/24/24\n",
    "\n",
    "## Subject: Machine Learning 2 - Capstone Project\n",
    "* ### Dungeons and Dragons Narrative Model\n",
    "\n",
    "\n",
    "## Structure:\n",
    "* ### *Focusing on the NLP model for the Capstone Project due to time constraints.*\n",
    "* ### NLP component that can interpret spoken D&D commands and classify them into game-specific intents.\n",
    "\n",
    "## Status: In-Progress\n",
    "\n",
    "## Hypotheses:\n",
    "* ### By using a combination of text normalization, feature engineering, and appropriate classifcation models, I can achieve an accuracy of at least 80% on identifying D&D intents from spoke commands.\n",
    "\n",
    "## Data Colletion:\n",
    "* ### Define a focused set of D&D commands and generate some commands using spoken word w/ variation.\n",
    "\n",
    "## Preprocessing:\n",
    "* ### Speech-to-text - Need text transcripts.\n",
    "* ### Text Normalization - Clean up the transcripts by removing filler words.\n",
    "\n",
    "## Feature Engineering:\n",
    "* ### Bag-of-Words to start and then add word embeddings and/or specialized features.\n",
    "\n",
    "## Model Selection:\n",
    "* ### Neural Network - RNN\n",
    "\n",
    "## Evaluation:\n",
    "\n"
   ]
  },
  {
   "cell_type": "code",
   "execution_count": 9,
   "metadata": {},
   "outputs": [],
   "source": [
    "import matplotlib as mtp\n",
    "import torch\n",
    "import numpy as np\n",
    "import random\n",
    "import tensorflow as tf\n",
    "from tensorflow import keras \n",
    "import matplotlib.pyplot as plt"
   ]
  },
  {
   "cell_type": "code",
   "execution_count": 10,
   "metadata": {},
   "outputs": [
    {
     "name": "stdout",
     "output_type": "stream",
     "text": [
      "Using GPU: NVIDIA GeForce GTX 1660 SUPER\n"
     ]
    }
   ],
   "source": [
    "#Checks if GPU is being used\n",
    "if torch.cuda.is_available():\n",
    "    device = torch.device(\"cuda\")  # Use the GPU\n",
    "    print(\"Using GPU:\", torch.cuda.get_device_name(0)) \n",
    "else:\n",
    "    device = torch.device(\"cpu\")  # Fallback to CPU\n",
    "    print(\"GPU not available, using CPU.\")\n",
    "\n",
    "#Using GPU: NVIDIA GeForce GTX 1660 SUPER - Successful\n",
    "#NOTE: This took some time to set up by installing and pathing the cuda toolkit v.12.4 and the right supplemental packages. This drastically improved\n",
    "#training time"
   ]
  },
  {
   "cell_type": "code",
   "execution_count": 11,
   "metadata": {},
   "outputs": [],
   "source": [
    "seed = 42\n",
    "random.seed(seed)"
   ]
  },
  {
   "cell_type": "markdown",
   "metadata": {},
   "source": [
    "## Dataset: Cornell Movie-Dialogs Corpus\n",
    "* Pre-train on general text datasets.\n",
    "* Introduce specific DND texts.\n",
    "* Fine tune for intents using DND terms.\n",
    "\n",
    "Here's the challenge: I need to transform this conversational data into a format where I have \"command-like\" examples to train the intent classifier."
   ]
  },
  {
   "cell_type": "code",
   "execution_count": 12,
   "metadata": {},
   "outputs": [
    {
     "name": "stdout",
     "output_type": "stream",
     "text": [
      "Downloading movie-corpus to C:\\Users\\GioDude\\.convokit\\downloads\\movie-corpus\n",
      "Downloading movie-corpus from http://zissou.infosci.cornell.edu/convokit/datasets/movie-corpus/movie-corpus.zip (40.9MB)... Done\n"
     ]
    }
   ],
   "source": [
    "#NOTE: This is a movie dialog of scripts, this is just a large dataset to add on to the training.\n",
    "from convokit import Corpus, download\n",
    "corpus = Corpus(filename=download(\"movie-corpus\"))"
   ]
  },
  {
   "cell_type": "code",
   "execution_count": 26,
   "metadata": {},
   "outputs": [],
   "source": [
    "#NOTE: This is a dnd transcript\n",
    "import codecs  # handles various file encodings\n",
    "\n",
    "with codecs.open(\"D:\\GioDude\\Documents\\ACC\\Spring 2024\\Machine Learning II\\Datasets\\DnD Scripts\\cr_dnd_transcripts_1.txt\", 'r', encoding='utf-8') as file:\n",
    "    dnd_data = file.read()"
   ]
  },
  {
   "cell_type": "code",
   "execution_count": 27,
   "metadata": {},
   "outputs": [],
   "source": [
    "dnd_utterances = dnd_data.splitlines()  # Split into lines (assumes one utterance per line)"
   ]
  },
  {
   "cell_type": "code",
   "execution_count": 13,
   "metadata": {},
   "outputs": [
    {
     "name": "stdout",
     "output_type": "stream",
     "text": [
      "Very good.\n",
      "This is a nice place.  It must have cost a pretty penny.\n",
      "Sure, Mickey.  Sure.\n",
      "Yes, sir.  They are indeed.\n",
      "Let's go by Rosarita's. You been there yet?\n"
     ]
    }
   ],
   "source": [
    "for i in range(5):\n",
    "    all_utterance_ids = corpus.get_utterance_ids()\n",
    "    random_id = random.choice(all_utterance_ids)\n",
    "    utterance = corpus.get_utterance(random_id)\n",
    "    print(utterance.text)"
   ]
  },
  {
   "cell_type": "code",
   "execution_count": 20,
   "metadata": {},
   "outputs": [],
   "source": [
    "#An empty list to store our training data (command, intent) pairs\n",
    "all_data = []\n",
    "\n",
    "# Example - D&D Intents\n",
    "my_intents = [\"attack\", \"move\", \"jump\", \"hide\", \"talk\", \"cast\"]\n",
    "\n",
    "#Manually Created Examples\n",
    "all_data.append((\"attack the goblin with my sword!\", \"attack\"))\n",
    "all_data.append((\"move north\", \"move\"))\n",
    "all_data.append((\"leap over the chasm!\", \"jump\"))\n",
    "all_data.append((\"sneak behind the enemy\", \"hide\"))\n",
    "all_data.append((\"can I persuade the shopkeeper?\", \"talk\"))\n",
    "all_data.append((\"cast fireball!\", \"cast\"))\n",
    "\n",
    "#Selective modification of movie dialog to find and label intents\n",
    "for utterance in corpus.get_utterance_ids(): \n",
    "    text = corpus.get_utterance(utterance).text.lower()\n",
    "\n",
    "    if \"attack\" in text:\n",
    "        all_data.append((text, \"attack\"))\n",
    "    elif \"move\" in text or \"go\" in text: \n",
    "        all_data.append((text, \"move\"))\n",
    "    elif \"jump\" in text:\n",
    "        all_data.append((text, \"jump\"))\n",
    "    elif \"hide\" in text or \"go\" in text: \n",
    "        all_data.append((text, \"hide\"))\n",
    "    elif \"talk\" in text:\n",
    "        all_data.append((text, \"talk\"))\n",
    "    elif \"cast\" in text:\n",
    "        all_data.append((text, \"cast\"))\n",
    "    else: #if no intent was found\n",
    "        all_data.append((text, \"filler\"))\n",
    "\n",
    "#Selective modification of DND Transcripts to find and label intents\n",
    "for utterance in dnd_utterances:\n",
    "    text = utterance.lower() \n",
    "\n",
    "    # Simple intent labeling (replace with more selective logic later)\n",
    "    if \"attack\" in text:\n",
    "        all_data.append((text, \"attack\"))\n",
    "    elif \"move\" in text or \"go\" in text: \n",
    "        all_data.append((text, \"move\"))\n",
    "    elif \"jump\" in text:\n",
    "        all_data.append((text, \"jump\"))\n",
    "    elif \"hide\" in text or \"go\" in text: \n",
    "        all_data.append((text, \"hide\"))\n",
    "    elif \"talk\" in text:\n",
    "        all_data.append((text, \"talk\"))\n",
    "    elif \"cast\" in text:\n",
    "        all_data.append((text, \"cast\"))\n",
    "    else: #if no intent was found\n",
    "        all_data.append((text, \"filler\"))\n",
    "\n",
    "    all_data.append((text, intent))\n",
    "\n",
    "#NOTE : This can be modified to include other words of intent."
   ]
  },
  {
   "cell_type": "code",
   "execution_count": 15,
   "metadata": {},
   "outputs": [],
   "source": [
    "from nltk import word_tokenize \n",
    "from sklearn.feature_extraction.text import CountVectorizer\n",
    "#NOTE: This represents each command as a \"bag\" of its constituent words, disregarding grammar and word order. The focus is on word frequency.\n",
    "\n",
    "# Assuming you have your training data in 'all_data' like the previous examples\n",
    "sentences = [datapoint[0] for datapoint in all_data]  # Extract just the text sentences\n",
    "intents = [datapoint[1] for datapoint in all_data]  # Extract the intents (labels)\n",
    "\n",
    "vectorizer = CountVectorizer() \n",
    "X = vectorizer.fit_transform(sentences)  \n",
    "\n",
    "\n",
    "# 'X' now contains a matrix where each row is a command and columns represent different words (your features)\n",
    "# The values in the matrix represent the word counts"
   ]
  },
  {
   "cell_type": "code",
   "execution_count": 25,
   "metadata": {},
   "outputs": [
    {
     "name": "stdout",
     "output_type": "stream",
     "text": [
      "(304713, 49248)\n"
     ]
    }
   ],
   "source": [
    "# Check the shape of the data (number of samples, number of features)\n",
    "print(X.shape)"
   ]
  },
  {
   "cell_type": "code",
   "execution_count": 21,
   "metadata": {},
   "outputs": [],
   "source": [
    "from sklearn.model_selection import train_test_split\n",
    "\n",
    "X_train, X_test, y_train, y_test = train_test_split(X, intents, test_size=0.2, random_state=42) \n",
    "# Using a random_state for reproducibility"
   ]
  },
  {
   "cell_type": "code",
   "execution_count": 22,
   "metadata": {},
   "outputs": [],
   "source": [
    "from sklearn.naive_bayes import MultinomialNB\n",
    "\n",
    "clf = MultinomialNB().fit(X_train, y_train) "
   ]
  },
  {
   "cell_type": "code",
   "execution_count": 23,
   "metadata": {},
   "outputs": [
    {
     "name": "stdout",
     "output_type": "stream",
     "text": [
      "Accuracy: 1.0\n"
     ]
    }
   ],
   "source": [
    "from sklearn.metrics import accuracy_score \n",
    "\n",
    "y_pred = clf.predict(X_test)\n",
    "accuracy = accuracy_score(y_test, y_pred)\n",
    "print(\"Accuracy:\", accuracy) "
   ]
  },
  {
   "cell_type": "code",
   "execution_count": 24,
   "metadata": {},
   "outputs": [
    {
     "name": "stderr",
     "output_type": "stream",
     "text": [
      "c:\\Users\\GioDude\\AppData\\Local\\Programs\\Python\\Python311\\Lib\\site-packages\\sklearn\\metrics\\_classification.py:386: UserWarning: A single label was found in 'y_true' and 'y_pred'. For the confusion matrix to have the correct shape, use the 'labels' parameter to pass all known labels.\n",
      "  warnings.warn(\n"
     ]
    },
    {
     "name": "stdout",
     "output_type": "stream",
     "text": [
      "[[60943]]\n",
      "              precision    recall  f1-score   support\n",
      "\n",
      "     command       1.00      1.00      1.00     60943\n",
      "\n",
      "    accuracy                           1.00     60943\n",
      "   macro avg       1.00      1.00      1.00     60943\n",
      "weighted avg       1.00      1.00      1.00     60943\n",
      "\n"
     ]
    }
   ],
   "source": [
    "from sklearn.metrics import confusion_matrix, classification_report\n",
    "\n",
    "print(confusion_matrix(y_test, y_pred))\n",
    "print(classification_report(y_test, y_pred))"
   ]
  }
 ],
 "metadata": {
  "kernelspec": {
   "display_name": "Python 3",
   "language": "python",
   "name": "python3"
  },
  "language_info": {
   "codemirror_mode": {
    "name": "ipython",
    "version": 3
   },
   "file_extension": ".py",
   "mimetype": "text/x-python",
   "name": "python",
   "nbconvert_exporter": "python",
   "pygments_lexer": "ipython3",
   "version": "3.11.1"
  }
 },
 "nbformat": 4,
 "nbformat_minor": 2
}
