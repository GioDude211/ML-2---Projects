{
 "cells": [
  {
   "cell_type": "markdown",
   "metadata": {},
   "source": [
    "# Model 1_1\n",
    "## Dataset: Gym\n",
    "\n",
    "## Programmer: Giovanni Vecchione\n",
    "## Date: 4/17/24\n",
    "## Subject: Machine Learning 2 - Project 6\n",
    "Use Reinforced Learning (RL) to build the project. Submit your project as Jupyter notebook."
   ]
  },
  {
   "cell_type": "code",
   "execution_count": 324,
   "metadata": {},
   "outputs": [],
   "source": [
    "import matplotlib as mtp\n",
    "import torch\n",
    "import numpy as np"
   ]
  },
  {
   "cell_type": "code",
   "execution_count": 325,
   "metadata": {},
   "outputs": [
    {
     "name": "stdout",
     "output_type": "stream",
     "text": [
      "Using GPU: NVIDIA GeForce GTX 1660 SUPER\n"
     ]
    }
   ],
   "source": [
    "#Checks if GPU is being used\n",
    "if torch.cuda.is_available():\n",
    "    device = torch.device(\"cuda\")  # Use the GPU\n",
    "    print(\"Using GPU:\", torch.cuda.get_device_name(0)) \n",
    "else:\n",
    "    device = torch.device(\"cpu\")  # Fallback to CPU\n",
    "    print(\"GPU not available, using CPU.\")\n",
    "\n",
    "#Using GPU: NVIDIA GeForce GTX 1660 SUPER - Successful\n",
    "#NOTE: This took some time to set up by installing and pathing the cuda toolkit v.12.4 and the right supplemental packages. This drastically improved\n",
    "#training time"
   ]
  },
  {
   "cell_type": "code",
   "execution_count": 326,
   "metadata": {},
   "outputs": [],
   "source": [
    "import gym\n",
    "\n",
    "env = gym.make(\"CartPole-v1\", render_mode=\"rgb_array\")\n",
    "#render_mode=\"rgb_array\" dosn't work for some reason when using the render call"
   ]
  },
  {
   "cell_type": "code",
   "execution_count": 327,
   "metadata": {},
   "outputs": [
    {
     "name": "stdout",
     "output_type": "stream",
     "text": [
      "Box([-4.8000002e+00 -3.4028235e+38 -4.1887903e-01 -3.4028235e+38], [4.8000002e+00 3.4028235e+38 4.1887903e-01 3.4028235e+38], (4,), float32)\n",
      "Discrete(2)\n"
     ]
    }
   ],
   "source": [
    "print(env.observation_space)    # See what kind of data the environment provides\n",
    "print(env.action_space)         # See the agent's possible actions "
   ]
  },
  {
   "cell_type": "code",
   "execution_count": 328,
   "metadata": {},
   "outputs": [
    {
     "data": {
      "text/plain": [
       "array([ 0.0273956 , -0.00611216,  0.03585979,  0.0197368 ], dtype=float32)"
      ]
     },
     "execution_count": 328,
     "metadata": {},
     "output_type": "execute_result"
    }
   ],
   "source": [
    "obs, info = env.reset(seed=42)\n",
    "obs"
   ]
  },
  {
   "cell_type": "code",
   "execution_count": 329,
   "metadata": {},
   "outputs": [
    {
     "data": {
      "text/plain": [
       "{}"
      ]
     },
     "execution_count": 329,
     "metadata": {},
     "output_type": "execute_result"
    }
   ],
   "source": [
    "info"
   ]
  },
  {
   "cell_type": "code",
   "execution_count": 330,
   "metadata": {},
   "outputs": [
    {
     "data": {
      "text/plain": [
       "(400, 600, 3)"
      ]
     },
     "execution_count": 330,
     "metadata": {},
     "output_type": "execute_result"
    }
   ],
   "source": [
    "img = env.render()\n",
    "img.shape #only works when using hte rgb call from earlier, however it does not seem to function"
   ]
  },
  {
   "cell_type": "code",
   "execution_count": 331,
   "metadata": {},
   "outputs": [],
   "source": [
    "action = 1  # accelerate right\n",
    "obs, reward, done, truncated, info = env.step(action)"
   ]
  },
  {
   "cell_type": "markdown",
   "metadata": {},
   "source": [
    "## The step() method executes the desired action and returns five values:\n",
    "\n",
    "### *1. obs*\n",
    "    This is the new observation. The cart is now moving toward the right (obs[1] > 0). The pole is still tilted toward the right (obs[2] > 0), but its angular velocity is now negative (obs[3] < 0), so it will likely be tilted toward the left after the next step.\n",
    "\n",
    "### *2. reward*\n",
    "    In this environment, you get a reward of 1.0 at every step, no matter what you do, so the goal is to keep the episode running for as long as possible.\n",
    "\n",
    "### *3. done*\n",
    "    This value will be True when the episode is over. This will happen when the pole tilts too much, or goes off the screen, or after 200 steps (in this last case, you have won). After that, the environment must be reset before it can be used again.\n",
    "\n",
    "### *4. truncated*\n",
    "    This value will be True when an episode is interrupted early, for example by an environment wrapper that imposes a maximum number of steps per episode (see Gym's documentation for more details on environment wrappers). Some RL algorithms treat truncated episodes differently from episodes finished normally (i.e., when done is True), but in this chapter we will treat them identically.\n",
    "\n",
    "### *5. info*\n",
    "    This environment-specific dictionary may provide extra information, just like the one returned by the reset() method."
   ]
  },
  {
   "cell_type": "markdown",
   "metadata": {},
   "source": [
    "## Neural Network Policies\n",
    "\n",
    "Basically using a neural net instead of a basic policy function\n",
    "\n",
    "*Typical Work Flow:* \n",
    "\n",
    "Define Neural Network (model1_1) and loss function (loss_fn)\n",
    "\n",
    "For each iteration:\n",
    "\n",
    "1. Run multiple episodes using play_multiple_episodes\n",
    "2. Discount and Normalize the rewards using the helper functions\n",
    "3. Update the model1_1 parameters based on the collected gradients (this would need an optimizer and a gradient application step)"
   ]
  },
  {
   "cell_type": "code",
   "execution_count": 332,
   "metadata": {},
   "outputs": [],
   "source": [
    "#Here is the code to build a basic neural network policy using Keras:\n",
    "import tensorflow as tf\n",
    "from tensorflow import keras\n",
    "\n",
    "model1_1 = keras.Sequential([\n",
    "    keras.layers.Dense(32, activation='relu'), \n",
    "    keras.layers.Dense(32, activation='relu'),  # Another hidden layer\n",
    "    keras.layers.Dense(1, activation='sigmoid')   # Output layer: probabilities for 2 actions\n",
    "])\n",
    "\n"
   ]
  },
  {
   "cell_type": "markdown",
   "metadata": {},
   "source": [
    "## Policy Gradients:\n",
    "Neural Nets cannot train on their own and must have a policy to follow. In this case we're using a Policy Gradient."
   ]
  },
  {
   "cell_type": "code",
   "execution_count": 333,
   "metadata": {},
   "outputs": [],
   "source": [
    "\"\"\"\n",
    "Core Action: This function takes a single step within the environment.\n",
    "\n",
    "Neural Network Interaction: It receives the current observation (obs), \n",
    "passes it through the model (model1_1) to get the probability of moving left (left_proba).\n",
    "\n",
    "Action Selection: An action is sampled based on that probability.\n",
    "\n",
    "Environment Update: The action is executed, and the function gets the next observation, reward, and 'done' flag from the environment.\n",
    "\n",
    "Loss Calculation: It prepares data for calculating the policy gradient loss, using a loss_fn (due to cross entropy stated earlier).\n",
    "\n",
    "Gradient Calculation: Uses a tf.GradientTape to record the operations, enabling the calculation of the policy gradient.\n",
    "\n",
    "NOTE: Returning actions to track\n",
    "\"\"\"\n",
    "\n",
    "def play_one_step(env, obs, model1_1, loss_fn):\n",
    "    with tf.GradientTape() as tape:\n",
    "        left_proba = model1_1(obs[np.newaxis])\n",
    "        # Calculate action probabilities from your neural network\n",
    "        action = (tf.random.uniform([1, 1]) > left_proba)\n",
    "        y_target = tf.constant([[1.]]) - tf.cast(action, tf.float32)\n",
    "        # Calculate a loss based on the returns and action probabilities\n",
    "        loss = tf.reduce_mean(loss_fn(y_target, left_proba))\n",
    "\n",
    "# Calculate gradients and update the model\n",
    "    grads = tape.gradient(loss, model1_1.trainable_variables)\n",
    "    obs, reward, done, truncated, info = env.step(int(action))\n",
    "    return obs, reward, done, truncated, grads, action"
   ]
  },
  {
   "cell_type": "code",
   "execution_count": 334,
   "metadata": {},
   "outputs": [],
   "source": [
    "\"\"\" \n",
    "Episode Loop: This function is responsible for running n_episodes.\n",
    "\n",
    "Data Collection: It collects the rewards (all_rewards) and gradients (all_grads) produced by play_one_step during each episode.\n",
    "*New* imporvements: added an observation collection also.\n",
    "    Added an action collection also.\n",
    "\"\"\"\n",
    "\n",
    "def play_multiple_episodes(env, n_episodes, n_max_steps, model1_1, loss_fn):\n",
    "    all_rewards = []\n",
    "    all_grads = []\n",
    "    all_observations = []  # Added for storing observations\n",
    "    all_actions = [] #Added for storing actions\n",
    "\n",
    "    for episode in range(n_episodes):\n",
    "        current_rewards = []\n",
    "        current_grads = []\n",
    "        current_observations = []  # Store observations for each episode\n",
    "        current_actions = []  # Actions for each episode\n",
    "        obs, info = env.reset()\n",
    "        current_observations.append(obs)  # Store the initial observation\n",
    "\n",
    "        for step in range(n_max_steps):\n",
    "            obs, reward, done, truncated, grads, action = play_one_step(\n",
    "                env, obs, model1_1, loss_fn)\n",
    "            current_rewards.append(reward)\n",
    "            current_grads.append(grads)\n",
    "            current_actions.append(action)  # Store the action \n",
    "            current_observations.append(obs) # Store each subsequent observation \n",
    "\n",
    "            if done or truncated:\n",
    "                break\n",
    "\n",
    "        all_rewards.append(current_rewards)\n",
    "        all_grads.append(current_grads)\n",
    "        all_observations.append(current_observations) \n",
    "        all_actions.append(current_actions)\n",
    "\n",
    "    return all_rewards, all_grads, all_observations, all_actions"
   ]
  },
  {
   "cell_type": "code",
   "execution_count": 335,
   "metadata": {},
   "outputs": [],
   "source": [
    "\"\"\" \n",
    "Discounted Returns: This straightforward function takes a list of rewards from a single episode and calculates the \n",
    "discounted cumulative rewards, with future rewards being weighted less by the discount_factor.\n",
    "\"\"\"\n",
    "def discount_rewards(rewards, discount_factor):\n",
    "    discounted = np.array(rewards)\n",
    "    for step in range(len(rewards) - 2, -1, -1):\n",
    "        discounted[step] += discounted[step + 1] * discount_factor\n",
    "    return discounted\n",
    "\n",
    "\"\"\" \n",
    "Normalization: This function applies the discount_rewards to each episode's rewards and then normalizes them \n",
    "(subtracting the mean and dividing by the standard deviation). Normalization can often improve stability during learning.\n",
    "\n",
    "Updated this--------------------------- \n",
    "\n",
    "Normalization Scope: Now, we calculate the mean and standard deviation for each individual episode's discounted rewards \n",
    "and normalize accordingly.\n",
    "\n",
    "Preserving Episode Structure: The output will maintain the structure of nested lists, where each inner list represents a \n",
    "single episode's normalized rewards.\n",
    "\"\"\"\n",
    "def discount_and_normalize_rewards(all_rewards, discount_factor):\n",
    "    all_discounted_rewards = []\n",
    "    for rewards in all_rewards:\n",
    "        discounted_rewards = discount_rewards(rewards, discount_factor)\n",
    "        reward_mean = discounted_rewards.mean()\n",
    "        reward_std = discounted_rewards.std()\n",
    "        normalized_rewards = (discounted_rewards - reward_mean) / reward_std  # Normalize here\n",
    "        all_discounted_rewards.append(normalized_rewards) \n",
    "    return all_discounted_rewards"
   ]
  },
  {
   "cell_type": "code",
   "execution_count": 336,
   "metadata": {},
   "outputs": [],
   "source": [
    "\"\"\"\n",
    "Tensor Conversion: Ensure all_final_rewards is a TensorFlow tensor for efficient calculation.\n",
    "\n",
    "GradientTape:  Essential for tracking the operations needed to calculate gradients later.\n",
    "\n",
    "Resimulating Episodes:  Since the action probabilities from the model are needed, we re-run the episodes, \n",
    "this time storing the log probabilities of the actions that were taken .\n",
    "(NOTE: need to replace \"initial_obs\" and \"actions\" with ways to access these from the code above).\n",
    "\n",
    "Log Probabilities:  We calculate the log probabilities of the chosen actions.\n",
    "\"\"\"\n",
    "\n",
    "\"\"\" \n",
    "\n",
    "\"\"\"\n",
    "def calculate_policy_gradient_loss(model, all_final_rewards, all_grads, all_observations, all_actions):\n",
    "    print(all_final_rewards)  # Inspect the structure thoroughly\n",
    "    print([len(episode_rewards) for episode_rewards in all_final_rewards])  # Check lengths\n",
    "    \n",
    "    all_final_rewards = tf.convert_to_tensor(all_final_rewards, dtype=tf.float32)\n",
    "\n",
    "    with tf.GradientTape() as tape:  \n",
    "        # Simulate the episodes again to get action probabilities \n",
    "        all_log_probs = [] \n",
    "        for episode_index, final_rewards in enumerate(all_final_rewards):\n",
    "            obs = all_observations[episode_index][0]  # Access initial observation\n",
    "            episode_log_probs = []\n",
    "            \n",
    "            for step, reward in enumerate(final_rewards):\n",
    "                action_probs = model(obs[tf.newaxis])  \n",
    "                selected_action = all_actions[episode_index][step]  # Access stored action\n",
    "                log_prob = tf.math.log(tf.gather_nd(action_probs, tf.stack([tf.range(1), selected_action], axis=1)))\n",
    "                episode_log_probs.append(log_prob)\n",
    "                obs = all_observations[episode_index][step + 1]  # Update obs for the next step\n",
    "                \n",
    "                if done:\n",
    "                    break \n",
    "\n",
    "            all_log_probs.append(episode_log_probs) \n",
    "            \n",
    "        all_log_probs = tf.stack(all_log_probs, axis=0) \n",
    "        \n",
    "        # Calculate the losses, weigh them, and take the mean across episodes  \n",
    "        losses = -all_log_probs * all_final_rewards \n",
    "        loss = tf.reduce_mean(losses)\n",
    "\n",
    "    return loss"
   ]
  },
  {
   "cell_type": "code",
   "execution_count": 337,
   "metadata": {},
   "outputs": [],
   "source": [
    "n_iterations = 150\n",
    "n_episodes_per_update = 10\n",
    "n_max_steps = 50\n",
    "discount_factor = 0.95"
   ]
  },
  {
   "cell_type": "markdown",
   "metadata": {},
   "source": [
    "*NOTE:* Since we are sampling a single action based on the probability, the y_target in the play_one_step function represents which action was actually taken."
   ]
  },
  {
   "cell_type": "code",
   "execution_count": 338,
   "metadata": {},
   "outputs": [],
   "source": [
    "optimizer = tf.keras.optimizers.Nadam(learning_rate=0.01)  #Nadam is an extension of adam and is common when using RL\n",
    "loss_fn = tf.keras.losses.binary_crossentropy"
   ]
  },
  {
   "cell_type": "code",
   "execution_count": 339,
   "metadata": {},
   "outputs": [
    {
     "name": "stdout",
     "output_type": "stream",
     "text": [
      "[array([ 1.44451807,  1.28185627,  1.11063332,  0.93039864,  0.74067793,\n",
      "        0.54097191,  0.33075506,  0.10947415, -0.12345311, -0.36863971,\n",
      "       -0.62673087, -0.89840577, -1.18437934, -1.48540416, -1.80227239]), array([ 1.28468712,  1.23873344,  1.19036115,  1.13944295,  1.08584484,\n",
      "        1.02942578,  0.9700373 ,  0.90752311,  0.84171869,  0.77245089,\n",
      "        0.69953741,  0.62278638,  0.54199582,  0.45695313,  0.36743451,\n",
      "        0.27320438,  0.17401476,  0.06960465, -0.04030074, -0.15599062,\n",
      "       -0.27776944, -0.40595767, -0.54089265, -0.68292947, -0.83244192,\n",
      "       -0.98982344, -1.1554882 , -1.32987216, -1.51343422, -1.70665744,\n",
      "       -1.9100503 , -2.12414805]), array([ 1.40446272,  1.29886919,  1.18771812,  1.07071699,  0.9475579 ,\n",
      "        0.81791675,  0.68145239,  0.53780569,  0.38659864,  0.22743333,\n",
      "        0.05989089, -0.11646957, -0.30211216, -0.49752541, -0.70322357,\n",
      "       -0.91974795, -1.14766835, -1.38758456, -1.64012794, -1.90596308]), array([ 1.41340597,  1.29896618,  1.17850325,  1.05170017,  0.91822324,\n",
      "        0.77772121,  0.62982433,  0.47414341,  0.31026875,  0.13776911,\n",
      "       -0.04380945, -0.23494478, -0.43613987, -0.64792417, -0.87085502,\n",
      "       -1.10551906, -1.35253385, -1.61254941, -1.88625   ]), array([ 1.39521627,  1.2975556 ,  1.19475489,  1.08654363,  0.97263703,\n",
      "        0.85273535,  0.72652305,  0.593668  ,  0.45382058,  0.30661277,\n",
      "        0.15165718, -0.01145396, -0.18314991, -0.36388248, -0.55412729,\n",
      "       -0.75438499, -0.96518257, -1.18707476, -1.42064548, -1.6665094 ,\n",
      "       -1.92531352]), array([ 1.21370394,  1.18348954,  1.15168491,  1.11820636,  1.08296577,\n",
      "        1.04587042,  1.00682268,  0.96571979,  0.92245359,  0.87691023,\n",
      "        0.82896985,  0.77850629,  0.72538675,  0.66947145,  0.61061323,\n",
      "        0.54865722,  0.48344036,  0.41479104,  0.3425286 ,  0.26646286,\n",
      "        0.18639367,  0.10211031,  0.01339099, -0.07999778, -0.17830174,\n",
      "       -0.28177959, -0.39070365, -0.50536055, -0.62605203, -0.75309569,\n",
      "       -0.88682585, -1.02759445, -1.17577192, -1.33174821, -1.49593377,\n",
      "       -1.66876068, -1.85068374, -2.0421817 , -2.2437585 ]), array([ 1.45904599,  1.23762343,  1.00454706,  0.75920351,  0.50094714,\n",
      "        0.22909833, -0.05705831, -0.35827583, -0.6753469 , -1.00910592,\n",
      "       -1.36043121, -1.7302473 ]), array([ 1.25401121,  1.21576607,  1.17550802,  1.13313113,  1.08852388,\n",
      "        1.04156888,  0.99214256,  0.94011486,  0.88534885,  0.82770043,\n",
      "        0.76701787,  0.7031415 ,  0.63590322,  0.56512608,  0.49062382,\n",
      "        0.41220039,  0.32964942,  0.24275365,  0.15128443,  0.05500104,\n",
      "       -0.04634991, -0.15303511, -0.26533532, -0.38354607, -0.50797844,\n",
      "       -0.63895988, -0.77683508, -0.92196687, -1.07473717, -1.23554802,\n",
      "       -1.4048226 , -1.58300636, -1.77056822, -1.96800175, -2.17582652]), array([ 1.41340597,  1.29896618,  1.17850325,  1.05170017,  0.91822324,\n",
      "        0.77772121,  0.62982433,  0.47414341,  0.31026875,  0.13776911,\n",
      "       -0.04380945, -0.23494478, -0.43613987, -0.64792417, -0.87085502,\n",
      "       -1.10551906, -1.35253385, -1.61254941, -1.88625   ]), array([ 1.39521627,  1.2975556 ,  1.19475489,  1.08654363,  0.97263703,\n",
      "        0.85273535,  0.72652305,  0.593668  ,  0.45382058,  0.30661277,\n",
      "        0.15165718, -0.01145396, -0.18314991, -0.36388248, -0.55412729,\n",
      "       -0.75438499, -0.96518257, -1.18707476, -1.42064548, -1.6665094 ,\n",
      "       -1.92531352])]\n",
      "[15, 32, 20, 19, 21, 39, 12, 35, 19, 21]\n"
     ]
    },
    {
     "ename": "ValueError",
     "evalue": "Can't convert non-rectangular Python sequence to Tensor.",
     "output_type": "error",
     "traceback": [
      "\u001b[1;31m---------------------------------------------------------------------------\u001b[0m",
      "\u001b[1;31mValueError\u001b[0m                                Traceback (most recent call last)",
      "Cell \u001b[1;32mIn[339], line 8\u001b[0m\n\u001b[0;32m      4\u001b[0m all_final_rewards \u001b[38;5;241m=\u001b[39m discount_and_normalize_rewards(all_rewards,\n\u001b[0;32m      5\u001b[0m                                                    discount_factor)\n\u001b[0;32m      6\u001b[0m all_mean_grads \u001b[38;5;241m=\u001b[39m []\n\u001b[1;32m----> 8\u001b[0m loss \u001b[38;5;241m=\u001b[39m \u001b[43mcalculate_policy_gradient_loss\u001b[49m\u001b[43m(\u001b[49m\u001b[43mmodel1_1\u001b[49m\u001b[43m,\u001b[49m\u001b[43m \u001b[49m\u001b[43mall_final_rewards\u001b[49m\u001b[43m,\u001b[49m\u001b[43m \u001b[49m\u001b[43mall_grads\u001b[49m\u001b[43m,\u001b[49m\u001b[43m \u001b[49m\u001b[43mall_observations\u001b[49m\u001b[43m,\u001b[49m\u001b[43m \u001b[49m\u001b[43mall_actions\u001b[49m\u001b[43m)\u001b[49m \n\u001b[0;32m     10\u001b[0m \u001b[38;5;28;01mfor\u001b[39;00m var_index \u001b[38;5;129;01min\u001b[39;00m \u001b[38;5;28mrange\u001b[39m(\u001b[38;5;28mlen\u001b[39m(model1_1\u001b[38;5;241m.\u001b[39mtrainable_variables)):\n\u001b[0;32m     11\u001b[0m     mean_grads \u001b[38;5;241m=\u001b[39m tf\u001b[38;5;241m.\u001b[39mreduce_mean(\n\u001b[0;32m     12\u001b[0m         [final_reward \u001b[38;5;241m*\u001b[39m all_grads[episode_index][step][var_index]\n\u001b[0;32m     13\u001b[0m          \u001b[38;5;28;01mfor\u001b[39;00m episode_index, final_rewards \u001b[38;5;129;01min\u001b[39;00m \u001b[38;5;28menumerate\u001b[39m(all_final_rewards)\n\u001b[0;32m     14\u001b[0m              \u001b[38;5;28;01mfor\u001b[39;00m step, final_reward \u001b[38;5;129;01min\u001b[39;00m \u001b[38;5;28menumerate\u001b[39m(final_rewards)], axis\u001b[38;5;241m=\u001b[39m\u001b[38;5;241m0\u001b[39m)\n",
      "Cell \u001b[1;32mIn[336], line 18\u001b[0m, in \u001b[0;36mcalculate_policy_gradient_loss\u001b[1;34m(model, all_final_rewards, all_grads, all_observations, all_actions)\u001b[0m\n\u001b[0;32m     15\u001b[0m \u001b[38;5;28mprint\u001b[39m(all_final_rewards)  \u001b[38;5;66;03m# Inspect the structure thoroughly\u001b[39;00m\n\u001b[0;32m     16\u001b[0m \u001b[38;5;28mprint\u001b[39m([\u001b[38;5;28mlen\u001b[39m(episode_rewards) \u001b[38;5;28;01mfor\u001b[39;00m episode_rewards \u001b[38;5;129;01min\u001b[39;00m all_final_rewards])  \u001b[38;5;66;03m# Check lengths\u001b[39;00m\n\u001b[1;32m---> 18\u001b[0m all_final_rewards \u001b[38;5;241m=\u001b[39m \u001b[43mtf\u001b[49m\u001b[38;5;241;43m.\u001b[39;49m\u001b[43mconvert_to_tensor\u001b[49m\u001b[43m(\u001b[49m\u001b[43mall_final_rewards\u001b[49m\u001b[43m,\u001b[49m\u001b[43m \u001b[49m\u001b[43mdtype\u001b[49m\u001b[38;5;241;43m=\u001b[39;49m\u001b[43mtf\u001b[49m\u001b[38;5;241;43m.\u001b[39;49m\u001b[43mfloat32\u001b[49m\u001b[43m)\u001b[49m\n\u001b[0;32m     20\u001b[0m \u001b[38;5;28;01mwith\u001b[39;00m tf\u001b[38;5;241m.\u001b[39mGradientTape() \u001b[38;5;28;01mas\u001b[39;00m tape:  \n\u001b[0;32m     21\u001b[0m     \u001b[38;5;66;03m# Simulate the episodes again to get action probabilities \u001b[39;00m\n\u001b[0;32m     22\u001b[0m     all_log_probs \u001b[38;5;241m=\u001b[39m [] \n",
      "File \u001b[1;32mc:\\Users\\GioDude\\AppData\\Local\\Programs\\Python\\Python311\\Lib\\site-packages\\tensorflow\\python\\util\\traceback_utils.py:153\u001b[0m, in \u001b[0;36mfilter_traceback.<locals>.error_handler\u001b[1;34m(*args, **kwargs)\u001b[0m\n\u001b[0;32m    151\u001b[0m \u001b[38;5;28;01mexcept\u001b[39;00m \u001b[38;5;167;01mException\u001b[39;00m \u001b[38;5;28;01mas\u001b[39;00m e:\n\u001b[0;32m    152\u001b[0m   filtered_tb \u001b[38;5;241m=\u001b[39m _process_traceback_frames(e\u001b[38;5;241m.\u001b[39m__traceback__)\n\u001b[1;32m--> 153\u001b[0m   \u001b[38;5;28;01mraise\u001b[39;00m e\u001b[38;5;241m.\u001b[39mwith_traceback(filtered_tb) \u001b[38;5;28;01mfrom\u001b[39;00m \u001b[38;5;28;01mNone\u001b[39;00m\n\u001b[0;32m    154\u001b[0m \u001b[38;5;28;01mfinally\u001b[39;00m:\n\u001b[0;32m    155\u001b[0m   \u001b[38;5;28;01mdel\u001b[39;00m filtered_tb\n",
      "File \u001b[1;32mc:\\Users\\GioDude\\AppData\\Local\\Programs\\Python\\Python311\\Lib\\site-packages\\tensorflow\\python\\framework\\constant_op.py:108\u001b[0m, in \u001b[0;36mconvert_to_eager_tensor\u001b[1;34m(value, ctx, dtype)\u001b[0m\n\u001b[0;32m    106\u001b[0m     dtype \u001b[38;5;241m=\u001b[39m dtypes\u001b[38;5;241m.\u001b[39mas_dtype(dtype)\u001b[38;5;241m.\u001b[39mas_datatype_enum\n\u001b[0;32m    107\u001b[0m ctx\u001b[38;5;241m.\u001b[39mensure_initialized()\n\u001b[1;32m--> 108\u001b[0m \u001b[38;5;28;01mreturn\u001b[39;00m \u001b[43mops\u001b[49m\u001b[38;5;241;43m.\u001b[39;49m\u001b[43mEagerTensor\u001b[49m\u001b[43m(\u001b[49m\u001b[43mvalue\u001b[49m\u001b[43m,\u001b[49m\u001b[43m \u001b[49m\u001b[43mctx\u001b[49m\u001b[38;5;241;43m.\u001b[39;49m\u001b[43mdevice_name\u001b[49m\u001b[43m,\u001b[49m\u001b[43m \u001b[49m\u001b[43mdtype\u001b[49m\u001b[43m)\u001b[49m\n",
      "\u001b[1;31mValueError\u001b[0m: Can't convert non-rectangular Python sequence to Tensor."
     ]
    }
   ],
   "source": [
    "for iteration in range(n_iterations):\n",
    "    all_rewards, all_grads, all_observations, all_actions = play_multiple_episodes(\n",
    "        env, n_episodes_per_update, n_max_steps, model1_1, loss_fn)\n",
    "    all_final_rewards = discount_and_normalize_rewards(all_rewards,\n",
    "                                                       discount_factor)\n",
    "    all_mean_grads = []\n",
    "\n",
    "    loss = calculate_policy_gradient_loss(model1_1, all_final_rewards, all_grads, all_observations, all_actions) \n",
    "\n",
    "    for var_index in range(len(model1_1.trainable_variables)):\n",
    "        mean_grads = tf.reduce_mean(\n",
    "            [final_reward * all_grads[episode_index][step][var_index]\n",
    "             for episode_index, final_rewards in enumerate(all_final_rewards)\n",
    "                 for step, final_reward in enumerate(final_rewards)], axis=0)\n",
    "        all_mean_grads.append(mean_grads)\n",
    "\n",
    "    optimizer.apply_gradients(zip(all_mean_grads, model1_1.trainable_variables))"
   ]
  },
  {
   "cell_type": "markdown",
   "metadata": {},
   "source": [
    "# Degugging\n",
    "\n",
    "### Version 1: \n",
    "model1_1 = keras.Sequential([\n",
    "    keras.layers.Dense(32, activation='relu'), \n",
    "    keras.layers.Dense(32, activation='relu'),  # Another hidden layer\n",
    "    keras.layers.Dense(1, activation='sigmoid')   # Output layer: probabilities for 2 actions\n",
    "])\n",
    "\n",
    "    So the issue with this isn't the code or the model just need to make a choice here. When using sequential models you need to ensure that the data is consistent in shape to feed into training. However in my case I wanted to add a Policy Gradient Loss Calculation as well. This means the shapes of the \"all_final_rewards\" need to be uniformed either by enforcing; a max size through early termination, padding shorter sequences to a certain length, OR just switching to an RNN since it can handle inconsistent lengths of data (does add more complexity tho).\n",
    "\n",
    "Tried to use early termination but that didn't seem to work.\n"
   ]
  }
 ],
 "metadata": {
  "kernelspec": {
   "display_name": "Python 3",
   "language": "python",
   "name": "python3"
  },
  "language_info": {
   "codemirror_mode": {
    "name": "ipython",
    "version": 3
   },
   "file_extension": ".py",
   "mimetype": "text/x-python",
   "name": "python",
   "nbconvert_exporter": "python",
   "pygments_lexer": "ipython3",
   "version": "3.11.1"
  }
 },
 "nbformat": 4,
 "nbformat_minor": 2
}
