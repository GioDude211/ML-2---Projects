{
 "cells": [
  {
   "cell_type": "markdown",
   "metadata": {},
   "source": [
    "# Model 1\n",
    "## Dataset:\n",
    "\n",
    "## Programmer: Giovanni Vecchione\n",
    "## Date: 4/4/24\n",
    "## Subject: Machine Learning 2 - Project 4\n",
    "Use Recurrent Neural Networks(RNN)/LSTM/GRU or sentiment analysis to build the project. \n",
    "Submit your project as Jupyter notebook\n",
    "\n",
    "Goal: RNN model that can detect emotion from text\n",
    "\n",
    "Dataset: tweet_emotions.csv from kaggle\n",
    "https://www.kaggle.com/datasets/pashupatigupta/emotion-detection-from-text/data "
   ]
  },
  {
   "cell_type": "code",
   "execution_count": 741,
   "metadata": {},
   "outputs": [],
   "source": [
    "import tensorflow as tf\n",
    "import random\n",
    "import torch\n",
    "from pathlib import Path\n",
    "import matplotlib.pyplot as plt\n",
    "import pandas as pd\n",
    "import numpy as np \n",
    "\n",
    "\n",
    "from keras.models import Sequential\n",
    "from keras.layers import Embedding, SimpleRNN, Dense\n",
    "\n",
    "from keras.preprocessing.sequence import pad_sequences \n",
    "from sklearn.model_selection import train_test_split\n",
    "from sklearn.preprocessing import LabelEncoder\n",
    "\n",
    "\n",
    "import re\n",
    "\n",
    "seed = 42\n",
    "random.seed(seed)"
   ]
  },
  {
   "cell_type": "code",
   "execution_count": 742,
   "metadata": {},
   "outputs": [
    {
     "name": "stdout",
     "output_type": "stream",
     "text": [
      "Using GPU: NVIDIA GeForce GTX 1660 SUPER\n"
     ]
    }
   ],
   "source": [
    "#Checks if GPU is being used\n",
    "if torch.cuda.is_available():\n",
    "    device = torch.device(\"cuda\")  # Use the GPU\n",
    "    print(\"Using GPU:\", torch.cuda.get_device_name(0)) \n",
    "else:\n",
    "    device = torch.device(\"cpu\")  # Fallback to CPU\n",
    "    print(\"GPU not available, using CPU.\")\n",
    "\n",
    "#Using GPU: NVIDIA GeForce GTX 1660 SUPER - Successful\n",
    "#NOTE: This took some time to set up by installing and pathing the cuda toolkit v.12.4 and the right supplemental packages. This drastically improved\n",
    "#training time"
   ]
  },
  {
   "cell_type": "code",
   "execution_count": 743,
   "metadata": {},
   "outputs": [
    {
     "name": "stdout",
     "output_type": "stream",
     "text": [
      "     tweet_id   sentiment                                            content\n",
      "0  1956967341       empty  @tiffanylue i know  i was listenin to bad habi...\n",
      "1  1956967666     sadness  Layin n bed with a headache  ughhhh...waitin o...\n",
      "2  1956967696     sadness                Funeral ceremony...gloomy friday...\n",
      "3  1956967789  enthusiasm               wants to hang out with friends SOON!\n",
      "4  1956968416     neutral  @dannycastillo We want to trade with someone w...\n",
      "(40000, 3)\n"
     ]
    }
   ],
   "source": [
    "# Load the CSV into a pandas DataFrame\n",
    "#change path if needed. In my case after extracting I have to state the csv file twice for some reason.\n",
    "data = pd.read_csv(r'D:\\GioDude\\Documents\\ACC\\Spring 2024\\Machine Learning II\\Datasets\\tweet_emotions_data\\tweet_emotions.csv\\tweet_emotions.csv')\n",
    "\n",
    "# Check out the data\n",
    "print(data.head())  # Print the first few rows to see its structure\n",
    "print(data.shape)   # See dimensions: (number of rows, number of columns)"
   ]
  },
  {
   "cell_type": "code",
   "execution_count": 744,
   "metadata": {},
   "outputs": [],
   "source": [
    "# Drop rows with missing 'content'\n",
    "data.dropna(subset=['content'], inplace=True) \n",
    "\n",
    "# Drop rows with missing 'sentiment'\n",
    "data.dropna(subset=['sentiment'], inplace=True) "
   ]
  },
  {
   "cell_type": "code",
   "execution_count": 745,
   "metadata": {},
   "outputs": [
    {
     "name": "stdout",
     "output_type": "stream",
     "text": [
      "     tweet_id   sentiment                                            content\n",
      "0  1956967341       empty  @tiffanylue i know  i was listenin to bad habi...\n",
      "1  1956967666     sadness  Layin n bed with a headache  ughhhh...waitin o...\n",
      "2  1956967696     sadness                Funeral ceremony...gloomy friday...\n",
      "3  1956967789  enthusiasm               wants to hang out with friends SOON!\n",
      "4  1956968416     neutral  @dannycastillo We want to trade with someone w...\n",
      "(40000, 3)\n",
      "tweet_id     0\n",
      "sentiment    0\n",
      "content      0\n",
      "dtype: int64\n"
     ]
    }
   ],
   "source": [
    "# Check out the data\n",
    "print(data.head())  # Print the first few rows to see its structure\n",
    "print(data.shape)   # See dimensions: (number of rows, number of columns)\n",
    "print(data.isnull().sum())  # Should show zero missing values in 'content' and 'sentiment' "
   ]
  },
  {
   "cell_type": "code",
   "execution_count": 746,
   "metadata": {},
   "outputs": [
    {
     "data": {
      "image/png": "[encoded data removed]",
      "text/plain": [
       "<Figure size 640x480 with 1 Axes>"
      ]
     },
     "metadata": {},
     "output_type": "display_data"
    }
   ],
   "source": [
    "# Sentiment distribution\n",
    "data['sentiment'].value_counts().plot(kind='bar') \n",
    "plt.title('Sentiment Distribution')\n",
    "plt.show()"
   ]
  },
  {
   "cell_type": "markdown",
   "metadata": {},
   "source": [
    "Clearly the data above is severely imbalanced and needs to be improved. First I will reduce the first two classes to below 6000 cases and increawse any below the 2000 mark to be at least 2000 cases. This can help with some of the imbalancing.\n",
    "\n",
    "### NOTE: Rebalance AFTER you split the data to prevent leakage."
   ]
  },
  {
   "cell_type": "markdown",
   "metadata": {},
   "source": [
    "# ! Essential Preprocessing Steps (This is for word-level preprocessing)\n",
    "\n",
    "### 1. Tokenization\n",
    "\n",
    "Goal: Break down sentences ('content') into meaningful units, usually words.\n",
    "Libraries: NLTK (Natural Language Toolkit) is a good starting point.\n",
    "\n",
    "ex. #Tokenization\n",
    "import nltk\n",
    "nltk.download('punkt')  # Download tokenizer\n",
    "\n",
    "def tokenize_text(text):\n",
    "    sentences = nltk.sent_tokenize(text)  # Split into sentences if needed\n",
    "    tokenized_sentences = [nltk.word_tokenize(sent) for sent in sentences] \n",
    "    return tokenized_sentences\n",
    "\n",
    " Apply to 'content' column:\n",
    "data['content'] = data['content'].apply(tokenize_text)\n",
    "\n",
    "### 2. Building a Vocabulary\n",
    "\n",
    "Goal: Create a mapping from words to unique numerical indices.\n",
    "Why? RNNs work best with numerical data.\n",
    "\n",
    "ex.\n",
    "from collections import Counter\n",
    "\n",
    "def build_vocabulary(all_tokens):\n",
    "    all_words = [word for tokens in all_tokens for word in tokens]\n",
    "    word_counts = Counter(all_words) \n",
    "    vocab = {word: i for i, (word, count) in enumerate(word_counts.most_common())}\n",
    "    return vocab\n",
    "\n",
    "### 3. Encoding Sequences\n",
    "\n",
    "Goal: Turn tokenized text into numerical sequences based on your vocabulary.\n",
    "\n",
    "ex. \n",
    "#Encoding Sequences\n",
    "#This encoding specifically will address unknown words not in the vocabulary. Great for dynamic datasets and new updated words. \n",
    "#### NOTE: Dynamic handling may have issues when using pre-trained models, however in my case I am not using pre-trained models.\n",
    "\n",
    "def encode_sequences(tokenized_text, vocab):\n",
    "    unk_token = \"<UNK>\"\n",
    "    encoded = []\n",
    "    for tokens in tokenized_text:\n",
    "        encoded.append([vocab.get(word, vocab[unk_token]) for word in tokens])  \n",
    "    return encoded\n",
    "\n",
    "### 4. Padding\n",
    "\n",
    "Goal: Make all sequences the same length, RNNs like this.\n",
    "Technique: Add a special 'PAD' token to shorter sequences."
   ]
  },
  {
   "cell_type": "markdown",
   "metadata": {},
   "source": [
    "# (CHANGES) Going with Character-level pre processing\n",
    "\n",
    "1. Simplification of Preprocessing\n",
    "\n",
    "No Need for Explicit Tokenization: Character-level models don't need sentence or word tokenization.\n",
    "Keep:\n",
    "Case normalization (lowercase)\n",
    "Basic punctuation removal (if you decide it helps)\n",
    "Skip:\n",
    "Contraction expansion (won't be as necessary)\n",
    "Advanced tokenization like lemmatization.\n",
    "\n",
    "2. Encode as characters function\n",
    "\n",
    "3. Building char_to_index function instead of a vocabulary.\n",
    "\n",
    "4. Padding (same as before)"
   ]
  },
  {
   "cell_type": "code",
   "execution_count": 747,
   "metadata": {},
   "outputs": [],
   "source": [
    "# 1. Preprocessing for character-level\n",
    "\n",
    "def preprocess(tweet):\n",
    "    tweet = tweet.lower()  # Case normalization\n",
    "    tweet = re.sub(r'[^\\w\\s]', '', tweet)  # Basic punctuation removal\n",
    "    return tweet"
   ]
  },
  {
   "cell_type": "code",
   "execution_count": 748,
   "metadata": {},
   "outputs": [],
   "source": [
    "# 2. Building the character index\n",
    "def build_char_index(text_corpus):\n",
    "    unique_chars = set(''.join(text_corpus))  # Get all unique characters\n",
    "    char_to_index = {char: i for i, char in enumerate(unique_chars)}\n",
    "    return char_to_index"
   ]
  },
  {
   "cell_type": "code",
   "execution_count": 749,
   "metadata": {},
   "outputs": [],
   "source": [
    "# 3. Encoding tweets as characters\n",
    "def encode_as_characters(text, char_to_index):\n",
    "    return [char_to_index[char] for char in text] "
   ]
  },
  {
   "cell_type": "code",
   "execution_count": 750,
   "metadata": {},
   "outputs": [],
   "source": [
    "# Apply preprocessing and encoding:\n",
    "data['content'] = data['content'].apply(preprocess)\n",
    "\n",
    "char_to_index = build_char_index(data['content'])  \n",
    "data['content'] = data['content'].apply(lambda text: encode_as_characters(text, char_to_index))"
   ]
  },
  {
   "cell_type": "code",
   "execution_count": 751,
   "metadata": {},
   "outputs": [
    {
     "name": "stdout",
     "output_type": "stream",
     "text": [
      "0    [30, 19, 15, 15, 4, 37, 9, 20, 21, 17, 10, 19,...\n",
      "1    [20, 4, 9, 19, 37, 10, 37, 10, 39, 17, 11, 10,...\n",
      "2    [15, 21, 37, 17, 14, 4, 20, 10, 6, 17, 14, 17,...\n",
      "3    [41, 4, 37, 30, 1, 10, 30, 0, 10, 23, 4, 37, 5...\n",
      "4    [11, 4, 37, 37, 9, 6, 4, 1, 30, 19, 20, 20, 0,...\n",
      "Name: content, dtype: object\n"
     ]
    }
   ],
   "source": [
    "print(data['content'].head())  # Print the first few encoded tweets to confirm correct encoding"
   ]
  },
  {
   "cell_type": "code",
   "execution_count": 752,
   "metadata": {},
   "outputs": [],
   "source": [
    "# 4. Padding sequences\n",
    "#def pad_and_encode(encoded_text, max_length):\n",
    "    #return pad_sequences(encoded_text, maxlen=max_length, padding='post') \n",
    "\n",
    "# Example usage:\n",
    "#max_text_length = 100  # Adjust this based on your data\n",
    "#padded_data = pad_and_encode(data['content'], max_text_length)"
   ]
  },
  {
   "cell_type": "code",
   "execution_count": 753,
   "metadata": {},
   "outputs": [],
   "source": [
    "# Encode the entire sentiment column\n",
    "encoder = LabelEncoder()\n",
    "data['sentiment'] = encoder.fit_transform(data['sentiment']) "
   ]
  },
  {
   "cell_type": "markdown",
   "metadata": {},
   "source": [
    "# Splitting Data"
   ]
  },
  {
   "cell_type": "code",
   "execution_count": 754,
   "metadata": {},
   "outputs": [],
   "source": [
    "\n",
    "# After your data cleaning and preprocessing steps ...\n",
    "#Dataset is to be split 70/15/15 (this can be adjusted)\n",
    "\n",
    "# Feature and target variables\n",
    "X = data['content']   \n",
    "y = data['sentiment']\n",
    "\n",
    "# Initial split: 70% training, 30% for further splitting \n",
    "X_train_temp, X_test, y_train_temp, y_test = train_test_split(X, y, test_size=0.3, random_state=42, stratify=y)\n",
    "\n",
    "# Split the temporary set into validation and testing: 50/50\n",
    "X_train, X_val, y_train, y_val = train_test_split(X_train_temp, y_train_temp, test_size=0.5, random_state=42, stratify=y_train_temp)\n"
   ]
  },
  {
   "cell_type": "code",
   "execution_count": 755,
   "metadata": {},
   "outputs": [],
   "source": [
    "# Convert to NumPy arrays (if not already done)\n",
    "X_train = np.asarray(X_train) \n",
    "X_test = np.asarray(X_test)\n",
    "\n",
    "y_train = np.asarray(y_train) \n",
    "y_test = np.asarray(y_test)"
   ]
  },
  {
   "cell_type": "code",
   "execution_count": 756,
   "metadata": {},
   "outputs": [],
   "source": [
    "max_tweet_length = 100  # Or your actual maximum tweet length\n",
    "X_train = X_train.reshape(-1, max_tweet_length) \n",
    "X_test = X_test.reshape(-1, max_tweet_length)\n",
    "\n",
    "y_train = y_train.reshape(-1, max_tweet_length) \n",
    "y_test = y_test.reshape(-1, max_tweet_length)"
   ]
  },
  {
   "cell_type": "code",
   "execution_count": 757,
   "metadata": {},
   "outputs": [
    {
     "data": {
      "text/plain": [
       "(140, 100)"
      ]
     },
     "execution_count": 757,
     "metadata": {},
     "output_type": "execute_result"
    }
   ],
   "source": [
    "#NOTE: This checks the format and shape of training data\n",
    "X_train.shape\n"
   ]
  },
  {
   "cell_type": "code",
   "execution_count": 758,
   "metadata": {},
   "outputs": [
    {
     "data": {
      "text/plain": [
       "(140, 100)"
      ]
     },
     "execution_count": 758,
     "metadata": {},
     "output_type": "execute_result"
    }
   ],
   "source": [
    "y_train.shape"
   ]
  },
  {
   "cell_type": "markdown",
   "metadata": {},
   "source": [
    "# Address Dataset Imbalance\n",
    "\n",
    "### NOTE: I don't have time to address this imbalance so I will go ahead and build the model.\n",
    "### There appears to be a type error or a label error causing a 0 to return.\n",
    "### The model can still be trained however I won't be able to address this right now."
   ]
  },
  {
   "cell_type": "markdown",
   "metadata": {},
   "source": [
    "from imblearn.over_sampling import SMOTE\n",
    "from imblearn.under_sampling import RandomUnderSampler  # Or another undersampling method \n",
    "\n",
    "#function to handle imbalance\n",
    "\n",
    "def handle_imbalance(X_train, y_train):\n",
    "    counts = y_train.value_counts()\n",
    "\n",
    "    # Undersampling for larger categories\n",
    "    under_target = 6000\n",
    "    for sentiment, count in counts.items():\n",
    "        if count > under_target:\n",
    "            subset = X_train[y_train == sentiment] \n",
    "            reduced_subset = subset.sample(under_target, random_state=42) \n",
    "            X_train.update(reduced_subset) \n",
    "\n",
    "     # Oversampling \n",
    "    over_target = 2000\n",
    "    oversampler = SMOTE()\n",
    "    for sentiment, count in counts.items():\n",
    "        if count < over_target:\n",
    "            subset_X = X_train[y_train == sentiment]\n",
    "            subset_y = y_train[y_train == sentiment]\n",
    "\n",
    "            # Reshaping for SMOTE   \n",
    "            num_features = len(subset_X[0])  # Length of a single tweet encoding\n",
    "            subset_X = subset_X.reshape(-1, num_features)\n",
    "\n",
    "            X_res, y_res = oversampler.fit_resample(subset_X, subset_y)\n",
    "            X_train = pd.concat([X_train, X_res]) \n",
    "            y_train = pd.concat([y_train, y_res])\n",
    "\n",
    "    return X_train, y_train\n",
    "\n",
    "#Apply to training set\n",
    "X_train, y_train = handle_imbalance(X_train.copy(), y_train.copy())  # Use copies "
   ]
  },
  {
   "cell_type": "markdown",
   "metadata": {},
   "source": [
    "# Building the RNN"
   ]
  },
  {
   "cell_type": "markdown",
   "metadata": {},
   "source": [
    "## Model 1 ver. 1"
   ]
  },
  {
   "cell_type": "code",
   "execution_count": 759,
   "metadata": {},
   "outputs": [],
   "source": [
    "\n",
    "\n",
    "# Assuming your preprocessed text data is in 'X_train' and labels in 'y_train'\n",
    "\n",
    "vocab_size = len(char_to_index) # Size of character vocabulary\n",
    "embedding_dim = 32  # Dimensionality of character embeddings\n",
    "max_tweet_length = 100  # Adjust this based on data\n",
    "\n",
    "model1_1 = Sequential([\n",
    "    tf.keras.layers.Embedding(input_dim=vocab_size, output_dim=embedding_dim),\n",
    "    tf.keras.layers.Masking(mask_value=0),  # Introduce a masking layer\n",
    "    tf.keras.layers.SimpleRNN(units=64),  \n",
    "    tf.keras.layers.Dense(13, activation='softmax')  \n",
    "])"
   ]
  },
  {
   "cell_type": "markdown",
   "metadata": {},
   "source": [
    "## Masking Layer: \n",
    "We introduce tf.keras.layers.Masking with mask_value=0.  This designates the padded elements (often represented by the number 0 in your character index) as values to ignore during computations.\n",
    "\n",
    "### NOTE: The masking behavior ensures that even though the Embedding layer technically outputs sequences of length max_tweet_length, the subsequent RNN layers correctly process only the non-padded portions of the tweets."
   ]
  },
  {
   "cell_type": "code",
   "execution_count": 764,
   "metadata": {},
   "outputs": [],
   "source": [
    "# Compile the model\n",
    "model1_1.compile(\n",
    "    loss='categorical_crossentropy', \n",
    "    optimizer='adam',\n",
    "    metrics=['accuracy'])\n"
   ]
  },
  {
   "cell_type": "markdown",
   "metadata": {},
   "source": [
    "## ISSUE FOUND: \n",
    "Incorrect Structure  print(X_train[0])  shows a single list of character indices representing one tweet. The (14000,) shape indicates that X_train is a 1-dimensional array where each element is one of these lists.  TensorFlow needs a 2D array."
   ]
  },
  {
   "cell_type": "code",
   "execution_count": 763,
   "metadata": {},
   "outputs": [
    {
     "ename": "ValueError",
     "evalue": "Failed to convert a NumPy array to a Tensor (Unsupported object type list).",
     "output_type": "error",
     "traceback": [
      "\u001b[1;31m---------------------------------------------------------------------------\u001b[0m",
      "\u001b[1;31mValueError\u001b[0m                                Traceback (most recent call last)",
      "Cell \u001b[1;32mIn[763], line 2\u001b[0m\n\u001b[0;32m      1\u001b[0m \u001b[38;5;66;03m# Training (assuming one-hot encoded 'y_train')\u001b[39;00m\n\u001b[1;32m----> 2\u001b[0m \u001b[43mmodel1_1\u001b[49m\u001b[38;5;241;43m.\u001b[39;49m\u001b[43mfit\u001b[49m\u001b[43m(\u001b[49m\u001b[43mX_train\u001b[49m\u001b[43m,\u001b[49m\u001b[43m \u001b[49m\u001b[43my_train\u001b[49m\u001b[43m,\u001b[49m\u001b[43m \u001b[49m\u001b[43mepochs\u001b[49m\u001b[38;5;241;43m=\u001b[39;49m\u001b[38;5;241;43m5\u001b[39;49m\u001b[43m,\u001b[49m\u001b[43m \u001b[49m\u001b[43mbatch_size\u001b[49m\u001b[38;5;241;43m=\u001b[39;49m\u001b[38;5;241;43m32\u001b[39;49m\u001b[43m)\u001b[49m \n",
      "File \u001b[1;32mc:\\Users\\GioDude\\AppData\\Local\\Programs\\Python\\Python311\\Lib\\site-packages\\keras\\src\\utils\\traceback_utils.py:122\u001b[0m, in \u001b[0;36mfilter_traceback.<locals>.error_handler\u001b[1;34m(*args, **kwargs)\u001b[0m\n\u001b[0;32m    119\u001b[0m     filtered_tb \u001b[38;5;241m=\u001b[39m _process_traceback_frames(e\u001b[38;5;241m.\u001b[39m__traceback__)\n\u001b[0;32m    120\u001b[0m     \u001b[38;5;66;03m# To get the full stack trace, call:\u001b[39;00m\n\u001b[0;32m    121\u001b[0m     \u001b[38;5;66;03m# `keras.config.disable_traceback_filtering()`\u001b[39;00m\n\u001b[1;32m--> 122\u001b[0m     \u001b[38;5;28;01mraise\u001b[39;00m e\u001b[38;5;241m.\u001b[39mwith_traceback(filtered_tb) \u001b[38;5;28;01mfrom\u001b[39;00m \u001b[38;5;28;01mNone\u001b[39;00m\n\u001b[0;32m    123\u001b[0m \u001b[38;5;28;01mfinally\u001b[39;00m:\n\u001b[0;32m    124\u001b[0m     \u001b[38;5;28;01mdel\u001b[39;00m filtered_tb\n",
      "File \u001b[1;32mc:\\Users\\GioDude\\AppData\\Local\\Programs\\Python\\Python311\\Lib\\site-packages\\tensorflow\\python\\framework\\constant_op.py:108\u001b[0m, in \u001b[0;36mconvert_to_eager_tensor\u001b[1;34m(value, ctx, dtype)\u001b[0m\n\u001b[0;32m    106\u001b[0m     dtype \u001b[38;5;241m=\u001b[39m dtypes\u001b[38;5;241m.\u001b[39mas_dtype(dtype)\u001b[38;5;241m.\u001b[39mas_datatype_enum\n\u001b[0;32m    107\u001b[0m ctx\u001b[38;5;241m.\u001b[39mensure_initialized()\n\u001b[1;32m--> 108\u001b[0m \u001b[38;5;28;01mreturn\u001b[39;00m \u001b[43mops\u001b[49m\u001b[38;5;241;43m.\u001b[39;49m\u001b[43mEagerTensor\u001b[49m\u001b[43m(\u001b[49m\u001b[43mvalue\u001b[49m\u001b[43m,\u001b[49m\u001b[43m \u001b[49m\u001b[43mctx\u001b[49m\u001b[38;5;241;43m.\u001b[39;49m\u001b[43mdevice_name\u001b[49m\u001b[43m,\u001b[49m\u001b[43m \u001b[49m\u001b[43mdtype\u001b[49m\u001b[43m)\u001b[49m\n",
      "\u001b[1;31mValueError\u001b[0m: Failed to convert a NumPy array to a Tensor (Unsupported object type list)."
     ]
    }
   ],
   "source": [
    "# Training (assuming one-hot encoded 'y_train')\n",
    "model1_1.fit(X_train, y_train, epochs=5, batch_size=32) "
   ]
  },
  {
   "cell_type": "code",
   "execution_count": null,
   "metadata": {},
   "outputs": [
    {
     "data": {
      "text/plain": [
       "(140, 100)"
      ]
     },
     "execution_count": 709,
     "metadata": {},
     "output_type": "execute_result"
    }
   ],
   "source": [
    "y_train.shape"
   ]
  },
  {
   "cell_type": "code",
   "execution_count": null,
   "metadata": {},
   "outputs": [
    {
     "name": "stdout",
     "output_type": "stream",
     "text": [
      "<class 'numpy.ndarray'>\n",
      "<class 'numpy.ndarray'>\n"
     ]
    }
   ],
   "source": [
    "print(type(y_train))\n",
    "print(type(X_train))"
   ]
  }
 ],
 "metadata": {
  "kernelspec": {
   "display_name": "Python 3",
   "language": "python",
   "name": "python3"
  },
  "language_info": {
   "codemirror_mode": {
    "name": "ipython",
    "version": 3
   },
   "file_extension": ".py",
   "mimetype": "text/x-python",
   "name": "python",
   "nbconvert_exporter": "python",
   "pygments_lexer": "ipython3",
   "version": "3.11.1"
  }
 },
 "nbformat": 4,
 "nbformat_minor": 2
}
