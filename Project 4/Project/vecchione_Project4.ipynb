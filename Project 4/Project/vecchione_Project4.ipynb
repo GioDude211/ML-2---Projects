{
 "cells": [
  {
   "cell_type": "markdown",
   "metadata": {},
   "source": [
    "# Model 1\n",
    "## Dataset:\n",
    "\n",
    "## Programmer: Giovanni Vecchione\n",
    "## Date: 4/4/24\n",
    "## Subject: Machine Learning 2 - Project 4\n",
    "Use Recurrent Neural Networks(RNN)/LSTM/GRU or sentiment analysis to build the project. \n",
    "Submit your project as Jupyter notebook"
   ]
  }
 ],
 "metadata": {
  "language_info": {
   "name": "python"
  }
 },
 "nbformat": 4,
 "nbformat_minor": 2
}
