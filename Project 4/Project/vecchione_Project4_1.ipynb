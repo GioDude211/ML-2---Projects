{
 "cells": [
  {
   "cell_type": "markdown",
   "metadata": {},
   "source": [
    "# Model 1_1\n",
    "## Dataset: tweet_emotions.csv from kaggle\n",
    "https://www.kaggle.com/datasets/pashupatigupta/emotion-detection-from-text/data \n",
    "\n",
    "## Programmer: Giovanni Vecchione\n",
    "## Date: 4/4/24\n",
    "## Subject: Machine Learning 2 - Project 4\n",
    "Use Recurrent Neural Networks(RNN)/LSTM/GRU or sentiment analysis to build the project. \n",
    "Submit your project as Jupyter notebook\n",
    "\n",
    "Goal: LSTM model that can detect emotion from text"
   ]
  },
  {
   "cell_type": "code",
   "execution_count": 91,
   "metadata": {},
   "outputs": [],
   "source": [
    "import tensorflow as tf\n",
    "import random\n",
    "import torch\n",
    "from pathlib import Path\n",
    "import matplotlib.pyplot as plt\n",
    "import pandas as pd\n",
    "import numpy as np \n",
    "from keras.regularizers import l1\n",
    "from keras.regularizers import l2\n",
    "from keras.models import Sequential\n",
    "from keras.layers import Embedding, SimpleRNN, Dense\n",
    "from sklearn.utils import class_weight\n",
    "from tensorflow.keras import backend as K \n",
    "from keras.preprocessing.sequence import pad_sequences \n",
    "from sklearn.model_selection import train_test_split\n",
    "from sklearn.preprocessing import LabelEncoder\n",
    "\n",
    "\n",
    "import re\n",
    "\n",
    "seed = 42\n",
    "random.seed(seed)"
   ]
  },
  {
   "cell_type": "code",
   "execution_count": 42,
   "metadata": {},
   "outputs": [
    {
     "name": "stdout",
     "output_type": "stream",
     "text": [
      "Using GPU: NVIDIA GeForce GTX 1660 SUPER\n"
     ]
    }
   ],
   "source": [
    "#Checks if GPU is being used\n",
    "if torch.cuda.is_available():\n",
    "    device = torch.device(\"cuda\")  # Use the GPU\n",
    "    print(\"Using GPU:\", torch.cuda.get_device_name(0)) \n",
    "else:\n",
    "    device = torch.device(\"cpu\")  # Fallback to CPU\n",
    "    print(\"GPU not available, using CPU.\")\n",
    "\n",
    "#Using GPU: NVIDIA GeForce GTX 1660 SUPER - Successful\n",
    "#NOTE: This took some time to set up by installing and pathing the cuda toolkit v.12.4 and the right supplemental packages. This drastically improved\n",
    "#training time"
   ]
  },
  {
   "cell_type": "code",
   "execution_count": 43,
   "metadata": {},
   "outputs": [
    {
     "name": "stdout",
     "output_type": "stream",
     "text": [
      "     tweet_id   sentiment                                            content\n",
      "0  1956967341       empty  @tiffanylue i know  i was listenin to bad habi...\n",
      "1  1956967666     sadness  Layin n bed with a headache  ughhhh...waitin o...\n",
      "2  1956967696     sadness                Funeral ceremony...gloomy friday...\n",
      "3  1956967789  enthusiasm               wants to hang out with friends SOON!\n",
      "4  1956968416     neutral  @dannycastillo We want to trade with someone w...\n",
      "(40000, 3)\n"
     ]
    }
   ],
   "source": [
    "# Load the CSV into a pandas DataFrame\n",
    "#change path if needed. In my case after extracting I have to state the csv file twice for some reason.\n",
    "data = pd.read_csv(r'D:\\GioDude\\Documents\\ACC\\Spring 2024\\Machine Learning II\\Datasets\\tweet_emotions_data\\tweet_emotions.csv\\tweet_emotions.csv')\n",
    "\n",
    "# Check out the data\n",
    "print(data.head())  # Print the first few rows to see its structure\n",
    "print(data.shape)   # See dimensions: (number of rows, number of columns)"
   ]
  },
  {
   "cell_type": "code",
   "execution_count": 44,
   "metadata": {},
   "outputs": [
    {
     "data": {
      "image/png": "[encoded data removed]",
      "text/plain": [
       "<Figure size 640x480 with 1 Axes>"
      ]
     },
     "metadata": {},
     "output_type": "display_data"
    }
   ],
   "source": [
    "# Sentiment distribution\n",
    "data['sentiment'].value_counts().plot(kind='bar') \n",
    "plt.title('Sentiment Distribution')\n",
    "plt.show()"
   ]
  },
  {
   "cell_type": "code",
   "execution_count": 45,
   "metadata": {},
   "outputs": [],
   "source": [
    "# Drop rows with missing 'content'\n",
    "data.dropna(subset=['content'], inplace=True) \n",
    "\n",
    "# Drop rows with missing 'sentiment'\n",
    "data.dropna(subset=['sentiment'], inplace=True) "
   ]
  },
  {
   "cell_type": "markdown",
   "metadata": {},
   "source": [
    "# Preprocessing:"
   ]
  },
  {
   "cell_type": "code",
   "execution_count": 46,
   "metadata": {},
   "outputs": [],
   "source": [
    "\n",
    "def clean_tweet(tweet):\n",
    "    # Remove punctuation, lowercase, etc. \n",
    "    tweet = re.sub(r'[^\\w\\s]', '', tweet)  \n",
    "    tweet = tweet.lower() \n",
    "    return tweet\n",
    "\n",
    "data['content'] = data['content'].apply(clean_tweet)"
   ]
  },
  {
   "cell_type": "code",
   "execution_count": 47,
   "metadata": {},
   "outputs": [],
   "source": [
    "def tokenize_tweet(tweet):\n",
    "    return tweet.split()  # Simple whitespace tokenization\n",
    "\n",
    "data['content'] = data['content'].apply(tokenize_tweet)"
   ]
  },
  {
   "cell_type": "code",
   "execution_count": 48,
   "metadata": {},
   "outputs": [],
   "source": [
    "from collections import Counter\n",
    "\n",
    "def build_vocabulary(tweets, max_vocab_size=None):\n",
    "    all_words = [word for tweet in tweets for word in tweet]\n",
    "    word_counts = Counter(all_words)\n",
    "\n",
    "    if max_vocab_size:\n",
    "        vocab = word_counts.most_common(max_vocab_size) \n",
    "    else:\n",
    "        vocab = word_counts.items() \n",
    "\n",
    "    word_to_index = {word: i for i, (word, count) in enumerate(vocab)}\n",
    "    return word_to_index\n",
    "\n",
    "vocab = build_vocabulary(data['content'], max_vocab_size=10000) # Limit to 10k words "
   ]
  },
  {
   "cell_type": "code",
   "execution_count": 49,
   "metadata": {},
   "outputs": [],
   "source": [
    "def encode_tweets(tweets, word_to_index):\n",
    "    encoded_tweets = []\n",
    "    for tweet in tweets:\n",
    "        encoded_tweet = [word_to_index[word] for word in tweet if word in word_to_index]\n",
    "        encoded_tweets.append(encoded_tweet)\n",
    "    return encoded_tweets\n",
    "\n",
    "#Encoded feature for X\n",
    "X = encode_tweets(data['content'], vocab)"
   ]
  },
  {
   "cell_type": "code",
   "execution_count": 50,
   "metadata": {},
   "outputs": [],
   "source": [
    "from keras.utils import to_categorical\n",
    "# Encode the entire sentiment column\n",
    "encoder = LabelEncoder()\n",
    "y = encoder.fit_transform(data['sentiment']) # Assuming you've already fit a LabelEncoder\n",
    "y = to_categorical(y)\n",
    "\n",
    "#y is the target value"
   ]
  },
  {
   "cell_type": "code",
   "execution_count": 51,
   "metadata": {},
   "outputs": [
    {
     "name": "stdout",
     "output_type": "stream",
     "text": [
      "{'anger': 0, 'boredom': 1, 'empty': 2, 'enthusiasm': 3, 'fun': 4, 'happiness': 5, 'hate': 6, 'love': 7, 'neutral': 8, 'relief': 9, 'sadness': 10, 'surprise': 11, 'worry': 12}\n"
     ]
    }
   ],
   "source": [
    "mapping = dict(zip(encoder.classes_, encoder.transform(encoder.classes_)))\n",
    "print(mapping) \n"
   ]
  },
  {
   "cell_type": "markdown",
   "metadata": {},
   "source": [
    "# Splitting Data:"
   ]
  },
  {
   "cell_type": "code",
   "execution_count": 52,
   "metadata": {},
   "outputs": [],
   "source": [
    "# After your data cleaning and preprocessing steps ...\n",
    "#Dataset is to be split 70/15/15 (this can be adjusted)\n",
    "\n",
    "\n",
    "# Initial split: 70% training, 30% for further splitting \n",
    "X_train_temp, X_test, y_train_temp, y_test = train_test_split(X, y, test_size=0.3, random_state=42, stratify=y)\n",
    "\n",
    "# Split the temporary set into validation and testing: 50/50\n",
    "X_train, X_val, y_train, y_val = train_test_split(X_train_temp, y_train_temp, test_size=0.5, random_state=42, stratify=y_train_temp)"
   ]
  },
  {
   "cell_type": "code",
   "execution_count": 53,
   "metadata": {},
   "outputs": [],
   "source": [
    "max_tweet_length = 50  # Adjust this based on your data \n",
    "\n",
    "X_train = pad_sequences(X_train, maxlen=max_tweet_length) \n",
    "X_val = pad_sequences(X_val, maxlen=max_tweet_length)\n",
    "X_test = pad_sequences(X_test, maxlen=max_tweet_length)"
   ]
  },
  {
   "cell_type": "code",
   "execution_count": 84,
   "metadata": {},
   "outputs": [],
   "source": [
    "\n",
    "vocab_size = len(vocab) # Size of character vocabulary\n",
    "embedding_dim = 64    # Dimensionality of character embeddings\n",
    "max_tweet_length = 50  # Adjust this based on data\n",
    "\n",
    "model1_1 = Sequential([\n",
    "    tf.keras.layers.Embedding(input_dim=vocab_size, output_dim=128),  # Larger embedding size\n",
    "    tf.keras.layers.LSTM(64, return_sequences=True),\n",
    "    tf.keras.layers.LSTM(32, return_sequences=True),\n",
    "    tf.keras.layers.Dense(32, activation='relu', kernel_regularizer = l2(0.001)),\n",
    "    tf.keras.layers.Dropout(0.25),\n",
    "    tf.keras.layers.LSTM(16, return_sequences=True),  \n",
    "    tf.keras.layers.LSTM(8),\n",
    "    tf.keras.layers.Dense(13, activation='softmax') \n",
    "])"
   ]
  },
  {
   "cell_type": "code",
   "execution_count": 100,
   "metadata": {},
   "outputs": [],
   "source": [
    "model1_1.compile(loss='categorical_crossentropy', \n",
    "              optimizer='adam',\n",
    "              metrics=['accuracy'])\n",
    "\n",
    "callbacks = [tf.keras.callbacks.EarlyStopping(monitor='val_loss', patience=5)] "
   ]
  },
  {
   "cell_type": "code",
   "execution_count": 101,
   "metadata": {},
   "outputs": [
    {
     "name": "stdout",
     "output_type": "stream",
     "text": [
      "Epoch 1/15\n",
      "\u001b[1m438/438\u001b[0m \u001b[32m━━━━━━━━━━━━━━━━━━━━\u001b[0m\u001b[37m\u001b[0m \u001b[1m17s\u001b[0m 31ms/step - accuracy: 0.4621 - loss: 1.5503 - val_accuracy: 0.2779 - val_loss: 2.3441\n",
      "Epoch 2/15\n",
      "\u001b[1m438/438\u001b[0m \u001b[32m━━━━━━━━━━━━━━━━━━━━\u001b[0m\u001b[37m\u001b[0m \u001b[1m13s\u001b[0m 30ms/step - accuracy: 0.5104 - loss: 1.4615 - val_accuracy: 0.2770 - val_loss: 2.4438\n",
      "Epoch 3/15\n",
      "\u001b[1m438/438\u001b[0m \u001b[32m━━━━━━━━━━━━━━━━━━━━\u001b[0m\u001b[37m\u001b[0m \u001b[1m14s\u001b[0m 32ms/step - accuracy: 0.5379 - loss: 1.3886 - val_accuracy: 0.2721 - val_loss: 2.4780\n",
      "Epoch 4/15\n",
      "\u001b[1m438/438\u001b[0m \u001b[32m━━━━━━━━━━━━━━━━━━━━\u001b[0m\u001b[37m\u001b[0m \u001b[1m13s\u001b[0m 31ms/step - accuracy: 0.5503 - loss: 1.3268 - val_accuracy: 0.2749 - val_loss: 2.5379\n",
      "Epoch 5/15\n",
      "\u001b[1m438/438\u001b[0m \u001b[32m━━━━━━━━━━━━━━━━━━━━\u001b[0m\u001b[37m\u001b[0m \u001b[1m14s\u001b[0m 31ms/step - accuracy: 0.5834 - loss: 1.2678 - val_accuracy: 0.2710 - val_loss: 2.6121\n",
      "Epoch 6/15\n",
      "\u001b[1m438/438\u001b[0m \u001b[32m━━━━━━━━━━━━━━━━━━━━\u001b[0m\u001b[37m\u001b[0m \u001b[1m14s\u001b[0m 32ms/step - accuracy: 0.6072 - loss: 1.2089 - val_accuracy: 0.2674 - val_loss: 2.6789\n"
     ]
    }
   ],
   "source": [
    "history1_1 = model1_1.fit(X_train, y_train, \n",
    "          epochs=15, \n",
    "          batch_size=32, \n",
    "          validation_data=(X_val, y_val), \n",
    "          callbacks=callbacks)"
   ]
  },
  {
   "cell_type": "code",
   "execution_count": 87,
   "metadata": {},
   "outputs": [
    {
     "data": {
      "image/png": "[encoded data removed]",
      "text/plain": [
       "<Figure size 800x500 with 1 Axes>"
      ]
     },
     "metadata": {},
     "output_type": "display_data"
    }
   ],
   "source": [
    "import matplotlib.pyplot as plt\n",
    "import pandas as pd\n",
    "\n",
    "pd.DataFrame(history1_1.history).plot(\n",
    "    figsize=(8, 5), xlim=[0, 29], ylim=[0, 1], grid=True, xlabel=\"Epoch\",\n",
    "    style=[\"r--\", \"r--.\", \"b-\", \"b-*\"])\n",
    "plt.show()"
   ]
  },
  {
   "cell_type": "markdown",
   "metadata": {},
   "source": [
    "## Test #1:\n",
    "### Implemented a simpleRNN layer to see if the model works.\n",
    "\n",
    "#### Model Code:\n",
    "\n",
    "vocab_size = len(vocab) # Size of character vocabulary\n",
    "embedding_dim = 64    # Dimensionality of character embeddings\n",
    "max_tweet_length = 50  # Adjust this based on data\n",
    "\n",
    "model1_1 = Sequential([\n",
    "    tf.keras.layers.Embedding(input_dim=vocab_size, output_dim=embedding_dim),\n",
    "    tf.keras.layers.Masking(mask_value=0),  # Introduce a masking layer\n",
    "    tf.keras.layers.SimpleRNN(units=64),  \n",
    "    tf.keras.layers.Dense(13, activation='softmax')  \n",
    "])\n",
    "\n",
    "model1_1.compile(loss='categorical_crossentropy', \n",
    "              optimizer='adam',\n",
    "              metrics=['accuracy'])\n",
    "\n",
    "### Results:\n",
    "It seems that the model is up and running! However it seems that the model is overfitting to the training data as the validation data shows loss in performance while the training seems to continuously improve.\n",
    "\n"
   ]
  },
  {
   "cell_type": "markdown",
   "metadata": {},
   "source": [
    "## Test #2\n",
    "### Removing the simpleRNN layer and fully focusing on a LSTM model. Best to not mix the two layers to avoid the vanishing gradient issue.\n",
    "\n",
    "#### Model Code:\n",
    "\n",
    "vocab_size = len(vocab) # Size of character vocabulary\n",
    "embedding_dim = 64    # Dimensionality of character embeddings\n",
    "max_tweet_length = 50  # Adjust this based on data\n",
    "\n",
    "model1_1 = Sequential([\n",
    "    tf.keras.layers.Embedding(input_dim=vocab_size, output_dim=128),  # Larger embedding size\n",
    "    tf.keras.layers.LSTM(units=64, return_sequences=True),  # Using LSTM\n",
    "    tf.keras.layers.Dropout(0.2), \n",
    "    tf.keras.layers.LSTM(units=32),  # Stacked RNN\n",
    "    tf.keras.layers.Dense(13, activation='softmax') \n",
    "])\n",
    "\n",
    "model1_1.compile(loss='categorical_crossentropy', \n",
    "              optimizer='adam',\n",
    "              metrics=['accuracy'])\n",
    "\n",
    "### Results:\n",
    "The model seems to be performing better! However it is still overfitting. Validation loss is still high.\n",
    "\n",
    "\n"
   ]
  },
  {
   "cell_type": "markdown",
   "metadata": {},
   "source": [
    "## Test #3:\n",
    "### Added new dense layer with a L1 regularization to combat overfitting. Also added another dropout layer. Included early stopping aswell.\n",
    "\n",
    "#### Model Code:\n",
    "model1_1 = Sequential([\n",
    "    tf.keras.layers.Embedding(input_dim=vocab_size, output_dim=128),  # Larger embedding size\n",
    "    tf.keras.layers.LSTM(64), \n",
    "    tf.keras.layers.Dropout(0.2),   # Existing dropout\n",
    "    tf.keras.layers.Dense(64, activation='relu', kernel_regularizer=l1(0.001)),  # L1 on Dense layer\n",
    "    tf.keras.layers.Dropout(0.25),  # Another dropout\n",
    "    tf.keras.layers.Dense(13, activation='softmax') \n",
    "])\n",
    "\n",
    "model1_1.compile(loss='categorical_crossentropy', \n",
    "              optimizer='adam',\n",
    "              metrics=['accuracy'])\n",
    "\n",
    "\n",
    "### Results:\n",
    "It seems to have stopped the overfitting. However now the model is not finding the patterns. The accuracy and loss is performing poorly on both train and validation. This might be an improvement. "
   ]
  },
  {
   "cell_type": "markdown",
   "metadata": {},
   "source": [
    "## Test #4:\n",
    "### Added another LSTM layer and reduced the L1 and dropout layers. This could help since it seems the model is now too simple to understand the underlying patterns.\n",
    "\n",
    "This actually caused some errors. Turns out LSTMs don't return the right output unless specified."
   ]
  },
  {
   "cell_type": "markdown",
   "metadata": {},
   "source": [
    "## Test #5:\n",
    "### Changed model to:\n",
    "\n",
    "model1_1 = Sequential([\n",
    "    tf.keras.layers.Embedding(input_dim=vocab_size, output_dim=128),  # Larger embedding size\n",
    "    tf.keras.layers.LSTM(64, return_sequences=True),\n",
    "    tf.keras.layers.LSTM(32, return_sequences=True),\n",
    "    tf.keras.layers.Dropout(0.25),\n",
    "    tf.keras.layers.LSTM(16, return_sequences=True),  \n",
    "    tf.keras.layers.LSTM(8),\n",
    "    tf.keras.layers.Dense(13, activation='softmax') \n",
    "])\n",
    "\n",
    "### Results:\n",
    "The deeper model helped with the overall accuracy. however the val_loss is not seeing any improvement. This indicates the deeper LSTM model is clearly learning better and making better predictions. The val_loss is either due to overfitting, learning rate is too high, or the optimizer may need to be changed."
   ]
  },
  {
   "cell_type": "markdown",
   "metadata": {},
   "source": [
    "## Test #5.1 - Address overfitting using regularizer L2\n",
    "\n",
    "### Model Code:\n",
    "\n",
    "vocab_size = len(vocab) # Size of character vocabulary\n",
    "embedding_dim = 64    # Dimensionality of character embeddings\n",
    "max_tweet_length = 50  # Adjust this based on data\n",
    "\n",
    "model1_1 = Sequential([\n",
    "    tf.keras.layers.Embedding(input_dim=vocab_size, output_dim=128),  # Larger embedding size\n",
    "    tf.keras.layers.LSTM(64, return_sequences=True),\n",
    "    tf.keras.layers.LSTM(32, return_sequences=True),\n",
    "    tf.keras.layers.Dense(32, activation='relu', kernel_regularizer = l2(0.001)),\n",
    "    tf.keras.layers.Dropout(0.25),\n",
    "    tf.keras.layers.LSTM(16, return_sequences=True),  \n",
    "    tf.keras.layers.LSTM(8),\n",
    "    tf.keras.layers.Dense(13, activation='softmax') \n",
    "])\n",
    "\n",
    "\n",
    "\n",
    "### Results:\n",
    "So adding regularization did smooth the accuracy curve albeit not really improving. However loss is still very high.\n",
    "    Epoch 8/15\n",
    "    438/438 ━━━━━━━━━━━━━━━━━━━━ 13s 31ms/step - accuracy: 0.4269 - loss: 1.6438 - val_accuracy: 0.2804 - val_loss: 2.2793"
   ]
  },
  {
   "cell_type": "markdown",
   "metadata": {},
   "source": [
    "## Test #5.2 - Address the class imbalance by adding a wighted loss function\n",
    "\n",
    "### Custom Loss Code:\n",
    "\n",
    "#Create a custom_categorical_crossentropy function\n",
    "#this will address the class imbalances\n",
    "\n",
    "def weighted_custom_categorical_crossentropy(class_weights):\n",
    "    \"\"\"\n",
    "    Weighted categorical crossentropy with a class weight parameter.\n",
    "\n",
    "    Args:\n",
    "        class_weights: A dictionary of class weights, with \n",
    "                       class indices as keys and weight values.\n",
    "    \"\"\"\n",
    "\n",
    "    def loss_function(y_true, y_pred):\n",
    "        # Normalize prediction to sum to 1 (like a probability distribution) \n",
    "        y_pred /= K.sum(y_pred, axis=-1, keepdims=True)\n",
    "\n",
    "        # Clip to prevent excessively small values\n",
    "        y_pred = K.clip(y_pred, K.epsilon(), 1 - K.epsilon())\n",
    "\n",
    "        # Convert class weights to a tensor \n",
    "        weights = K.constant(class_weights)\n",
    "\n",
    "        # Expand dimensions of `weights` to match `y_true` shape\n",
    "        weights = K.expand_dims(weights, axis=(0, 1)) \n",
    "\n",
    "        # Calculate weighted loss for each sample and sum over the axis\n",
    "        loss = -(y_true * K.log(y_pred) * weights) \n",
    "        loss = K.sum(loss, axis=-1)\n",
    "\n",
    "        return loss\n",
    "    \n",
    "    return loss_function\n",
    "\n",
    "\n",
    "classes = np.unique(y_train).tolist()  # Convert to a list \n",
    "\n",
    "class_weights = class_weight.compute_class_weight(class_weight='balanced', \n",
    "                                                  classes=classes, \n",
    "                                                  y=y_train)  \n",
    "\n",
    "class_weights_dict = dict(enumerate(class_weights)) \n",
    "\n",
    "### Results: INCOMPLETE\n",
    "Although clearly the loss issue is due to the class imbalance, however with the alotted time frame I am unable to debug this portion for now. I will test other avenues to improve performance."
   ]
  }
 ],
 "metadata": {
  "kernelspec": {
   "display_name": "Python 3",
   "language": "python",
   "name": "python3"
  },
  "language_info": {
   "codemirror_mode": {
    "name": "ipython",
    "version": 3
   },
   "file_extension": ".py",
   "mimetype": "text/x-python",
   "name": "python",
   "nbconvert_exporter": "python",
   "pygments_lexer": "ipython3",
   "version": "3.11.1"
  }
 },
 "nbformat": 4,
 "nbformat_minor": 2
}
