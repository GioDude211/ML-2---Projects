{
 "cells": [
  {
   "cell_type": "markdown",
   "metadata": {},
   "source": [
    "## Programmer: Giovanni Vecchione\n",
    "## Date: 4/8/24\n",
    "## Subject: Machine Learning 2 - Autoencoders, GANS, and Diffusion Models\n",
    "\n",
    "Chapter 17. Autoencoders, GANs, and Diffusion Models\n",
    "\n",
    "Goal: Use Generative Adversarial Networks (GAN) to build the project. Submit your project as Jupyter notebook"
   ]
  }
 ],
 "metadata": {
  "language_info": {
   "name": "python"
  }
 },
 "nbformat": 4,
 "nbformat_minor": 2
}
